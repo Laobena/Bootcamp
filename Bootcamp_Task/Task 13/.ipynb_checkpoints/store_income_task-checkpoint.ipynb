{
 "cells": [
  {
   "cell_type": "markdown",
   "metadata": {
    "id": "lqt_yzRy16Wj"
   },
   "source": [
    "## Task\n",
    "\n",
    "In this compulsory task you will clean the country column and parse the date column in the **store_income_data_task.csv** file."
   ]
  },
  {
   "cell_type": "code",
   "execution_count": 48,
   "metadata": {
    "id": "vBP3WN2O16Wp"
   },
   "outputs": [
    {
     "data": {
      "text/html": [
       "<div>\n",
       "<style scoped>\n",
       "    .dataframe tbody tr th:only-of-type {\n",
       "        vertical-align: middle;\n",
       "    }\n",
       "\n",
       "    .dataframe tbody tr th {\n",
       "        vertical-align: top;\n",
       "    }\n",
       "\n",
       "    .dataframe thead th {\n",
       "        text-align: right;\n",
       "    }\n",
       "</style>\n",
       "<table border=\"1\" class=\"dataframe\">\n",
       "  <thead>\n",
       "    <tr style=\"text-align: right;\">\n",
       "      <th></th>\n",
       "      <th>id</th>\n",
       "      <th>store_name</th>\n",
       "      <th>store_email</th>\n",
       "      <th>department</th>\n",
       "      <th>income</th>\n",
       "      <th>date_measured</th>\n",
       "      <th>country</th>\n",
       "    </tr>\n",
       "  </thead>\n",
       "  <tbody>\n",
       "    <tr>\n",
       "      <th>0</th>\n",
       "      <td>1</td>\n",
       "      <td>Cullen/Frost Bankers, Inc.</td>\n",
       "      <td>NaN</td>\n",
       "      <td>Clothing</td>\n",
       "      <td>$54438554.24</td>\n",
       "      <td>4-2-2006</td>\n",
       "      <td>United States/</td>\n",
       "    </tr>\n",
       "    <tr>\n",
       "      <th>1</th>\n",
       "      <td>2</td>\n",
       "      <td>Nordson Corporation</td>\n",
       "      <td>NaN</td>\n",
       "      <td>Tools</td>\n",
       "      <td>$41744177.01</td>\n",
       "      <td>4-1-2006</td>\n",
       "      <td>Britain</td>\n",
       "    </tr>\n",
       "    <tr>\n",
       "      <th>2</th>\n",
       "      <td>3</td>\n",
       "      <td>Stag Industrial, Inc.</td>\n",
       "      <td>NaN</td>\n",
       "      <td>Beauty</td>\n",
       "      <td>$36152340.34</td>\n",
       "      <td>12-9-2003</td>\n",
       "      <td>United States</td>\n",
       "    </tr>\n",
       "    <tr>\n",
       "      <th>3</th>\n",
       "      <td>4</td>\n",
       "      <td>FIRST REPUBLIC BANK</td>\n",
       "      <td>ecanadine3@fc2.com</td>\n",
       "      <td>Automotive</td>\n",
       "      <td>$8928350.04</td>\n",
       "      <td>8-5-2006</td>\n",
       "      <td>Britain/</td>\n",
       "    </tr>\n",
       "    <tr>\n",
       "      <th>4</th>\n",
       "      <td>5</td>\n",
       "      <td>Mercantile Bank Corporation</td>\n",
       "      <td>NaN</td>\n",
       "      <td>Baby</td>\n",
       "      <td>$33552742.32</td>\n",
       "      <td>21-1-1973</td>\n",
       "      <td>United Kingdom</td>\n",
       "    </tr>\n",
       "  </tbody>\n",
       "</table>\n",
       "</div>"
      ],
      "text/plain": [
       "   id                   store_name         store_email  department  \\\n",
       "0   1   Cullen/Frost Bankers, Inc.                 NaN    Clothing   \n",
       "1   2          Nordson Corporation                 NaN       Tools   \n",
       "2   3        Stag Industrial, Inc.                 NaN      Beauty   \n",
       "3   4          FIRST REPUBLIC BANK  ecanadine3@fc2.com  Automotive   \n",
       "4   5  Mercantile Bank Corporation                 NaN        Baby   \n",
       "\n",
       "         income date_measured          country  \n",
       "0  $54438554.24      4-2-2006   United States/  \n",
       "1  $41744177.01      4-1-2006          Britain  \n",
       "2  $36152340.34     12-9-2003    United States  \n",
       "3   $8928350.04      8-5-2006         Britain/  \n",
       "4  $33552742.32     21-1-1973   United Kingdom  "
      ]
     },
     "execution_count": 48,
     "metadata": {},
     "output_type": "execute_result"
    }
   ],
   "source": [
    "import pandas as pd\n",
    "import numpy as np\n",
    "import fuzzywuzzy\n",
    "from fuzzywuzzy import process\n",
    "import chardet\n",
    "# Load up store_income_data.csv\n",
    "store_data = 'store_income_data_task.csv'\n",
    "df = pd.read_csv(store_data)\n",
    "\n",
    "# Taking a look at the data set\n",
    "df.head()"
   ]
  },
  {
   "cell_type": "markdown",
   "metadata": {
    "id": "ItqLwumA16Wr"
   },
   "source": [
    "1. Take a look at all the unique values in the \"country\" column. Then, convert the column to lowercase and remove any trailing white spaces."
   ]
  },
  {
   "cell_type": "code",
   "execution_count": 49,
   "metadata": {
    "id": "sLkzt4Hr16Wr"
   },
   "outputs": [
    {
     "name": "stdout",
     "output_type": "stream",
     "text": [
      "There are 37 unique countries\n"
     ]
    },
    {
     "data": {
      "text/plain": [
       "array(['united states/', 'britain', 'united states', 'britain/',\n",
       "       'united kingdom', 'u.k.', 'sa', 'u.k/', 'america', nan, 's.a.',\n",
       "       'england', 'uk', 's.a./', 'u.k', 'america/', 'sa.', '', 'uk.',\n",
       "       'england/', 'united states of america', 'uk/', 'sa/', 'england.',\n",
       "       'america.', 's.a..', 'united states of america.',\n",
       "       'united states of america/', 'united states.',\n",
       "       's. africasouth africa', 'britain.', '/', 'united kingdom.',\n",
       "       's. africasouth africa/', 'united kingdom/',\n",
       "       's. africasouth africa.', '.'], dtype=object)"
      ]
     },
     "execution_count": 49,
     "metadata": {},
     "output_type": "execute_result"
    }
   ],
   "source": [
    "# Taking a look at all the unique values of the country column with .unique. It retured 77 unique countries\n",
    "# countries = df['country'].unique()\n",
    "# print(f\"There are {len(countries)} unique countries\")\n",
    "# countries\n",
    "\n",
    "# # Remove all non-alphabetic characters\n",
    "# df['country'] = df['country'].str.replace(r'[^A-Za-z\\s]', '', regex=True)\n",
    "# Remove forward slashes\n",
    "# df['country'] = df['country'].str.replace('/', '', regex=False)  \n",
    "# Convert to lower case\n",
    "df['country'] = df['country'].str.lower()\n",
    "# Remove trailing white spaces\n",
    "df['country'] = df['country'].str.strip()\n",
    "\n",
    "# Taking a look at the now dataframe after the lower and str.strip manipulation. returning 37 unique countries\n",
    "countries = df['country'].unique()\n",
    "print(f\"There are {len(countries)} unique countries\")\n",
    "countries"
   ]
  },
  {
   "cell_type": "markdown",
   "metadata": {
    "id": "P6dcDc4P16Ws"
   },
   "source": [
    "2. Note that there should only be three separate countries. Eliminate all variations, so that 'South Africa', 'United Kingdom' and 'United States' are the only three countries."
   ]
  },
  {
   "cell_type": "code",
   "execution_count": 50,
   "metadata": {
    "id": "qeV3CxMR16Ws"
   },
   "outputs": [],
   "source": [
    "# This function, column_string_replacer is designed to replace strings within a specified column of a pandas DataFrame that are similar to a given target\n",
    "def column_string_replacer(df, column, string_to_match, min_ratio=90):\n",
    "\n",
    "    # Get the unique values from the specified column of the dataframe\n",
    "    strings = df[column].unique()\n",
    "    \n",
    "    # Search for the string_to_match in these unique strings, using fuzzy matching\n",
    "    # Limit the search to the top 10 closest matches\n",
    "    # Use the token_sort_ratio scorer from fuzzywuzzy to sort tokens alphabetically \n",
    "    # and then join them back into a string - this helps in matching strings with jumbled parts\n",
    "    matches = fuzzywuzzy.process.extract(string_to_match, strings, limit=10, scorer=fuzzywuzzy.fuzz.token_sort_ratio)\n",
    "    \n",
    "    # Filter out the close matches which meet or exceed the minimum ratio specified\n",
    "    # The ratio indicates how close the match should be - higher means more strictness\n",
    "    # Here, only the string part of the match is kept\n",
    "    close_matches = [match[0] for match in matches if match[1] >= min_ratio]\n",
    "    \n",
    "    # Find all rows in the dataframe column that have a value matching the close match strings\n",
    "    rows_with_matches = df[column].isin(close_matches)\n",
    "    \n",
    "    # Wherever a close match is found, replace the value in the dataframe with the intended string\n",
    "    df.loc[rows_with_matches, column] = string_to_match\n",
    "    # At this point, the function has replaced the closely matching strings\n",
    "    # in the specified column with the desired string_to_match"
   ]
  },
  {
   "cell_type": "code",
   "execution_count": null,
   "metadata": {},
   "outputs": [],
   "source": []
  },
  {
   "cell_type": "code",
   "execution_count": 51,
   "metadata": {},
   "outputs": [
    {
     "name": "stdout",
     "output_type": "stream",
     "text": [
      "There are 19 unique countries\n"
     ]
    },
    {
     "data": {
      "text/plain": [
       "array(['united states', 'britain', 'united kingdom', 'u.k.', 'sa', 'u.k/',\n",
       "       'america', nan, 's.a.', 'england', 'uk', 's.a./', 'u.k', '',\n",
       "       'united states of america', 's.a..', 'africasouth africa', '/',\n",
       "       '.'], dtype=object)"
      ]
     },
     "execution_count": 51,
     "metadata": {},
     "output_type": "execute_result"
    }
   ],
   "source": [
    "# Using new fuction to replace strings within a specified column. That are similar to a given target\n",
    "column_string_replacer(df=df, column='country', string_to_match=\"united kingdom\")\n",
    "column_string_replacer(df=df, column='country', string_to_match=\"uk\")\n",
    "column_string_replacer(df=df, column='country', string_to_match=\"britain\")\n",
    "column_string_replacer(df=df, column='country', string_to_match=\"england\")\n",
    "column_string_replacer(df=df, column='country', string_to_match=\"america\")\n",
    "column_string_replacer(df=df, column='country', string_to_match=\"united states\")\n",
    "column_string_replacer(df=df, column='country', string_to_match=\"united states of america\")\n",
    "column_string_replacer(df=df, column='country', string_to_match=\"africasouth africa\")\n",
    "column_string_replacer(df=df, column='country', string_to_match=\"sa\")\n",
    "\n",
    "countries = df['country'].unique()\n",
    "print(f\"There are {len(countries)} unique countries\")\n",
    "countries\n"
   ]
  },
  {
   "cell_type": "code",
   "execution_count": 59,
   "metadata": {
    "id": "gMJbN84P16Wt"
   },
   "outputs": [
    {
     "name": "stdout",
     "output_type": "stream",
     "text": [
      "There are 6 unique countries\n"
     ]
    },
    {
     "data": {
      "text/plain": [
       "['united states', 'united kingdom', 'uk', 'south africa', 'Unknown', 'sa']"
      ]
     },
     "execution_count": 59,
     "metadata": {},
     "output_type": "execute_result"
    }
   ],
   "source": [
    "# Remove periods\n",
    "df['country'] = df['country'].str.replace('.', '', regex=False) \n",
    "# Remove forward slashes\n",
    "df['country'] = df['country'].str.replace('/', '', regex=False)\n",
    "# Turn null values to empty strings ('')\n",
    "df['country'] = df['country'].fillna('')\n",
    "\n",
    "# Convert the 'country' column to a pandas Series\n",
    "series = df['country']\n",
    "\n",
    "# Replace empty strings with 'Unknown'\n",
    "series.replace('', 'Unknown', inplace=True)\n",
    "\n",
    "# Checker\n",
    "countries = series.unique()\n",
    "countries = [country for country in countries if country]\n",
    "print(f\"There are {len(countries)} unique countries\")\n",
    "countries"
   ]
  },
  {
   "cell_type": "code",
   "execution_count": 60,
   "metadata": {},
   "outputs": [
    {
     "name": "stdout",
     "output_type": "stream",
     "text": [
      "Most common country is united kingdom\n",
      "There are 3 unique countries\n"
     ]
    },
    {
     "data": {
      "text/plain": [
       "array(['united states', 'united kingdom', 'south africa'], dtype=object)"
      ]
     },
     "execution_count": 60,
     "metadata": {},
     "output_type": "execute_result"
    }
   ],
   "source": [
    "# Replacing the rest of the data\n",
    "df['country'] = df['country'].str.replace('united states of america', 'united states')\n",
    "df['country'] = df['country'].str.replace('america', 'united states')\n",
    "df['country'] = df['country'].str.replace('africasouth africa', 'south africa')\n",
    "df['country'] = df['country'].str.replace('sa', 'south africa')\n",
    "df['country'] = df['country'].str.replace('england', 'united kingdom')\n",
    "df['country'] = df['country'].str.replace('britain', 'united kingdom')\n",
    "df['country'] = df['country'].str.replace('uk', 'united kingdom')\n",
    "\n",
    "# find out which country is most common\n",
    "most_common_country = df['country'].mode()[0]\n",
    "print(f\"Most common country is {most_common_country}\")\n",
    "# Replacing null values with most common\n",
    "df['country'] = df['country'].str.replace('Unknown', 'united kingdom')\n",
    "\n",
    "# Checker\n",
    "countries = df['country'].unique()\n",
    "print(f\"There are {len(countries)} unique countries\")\n",
    "countries"
   ]
  },
  {
   "cell_type": "markdown",
   "metadata": {
    "id": "UJZDMTwP16Ws"
   },
   "source": [
    "3. Create a new column called `days_ago` in the DataFrame that is a copy of the 'date_measured' column but instead it is a number that shows how many days ago it was measured from the current date. Note that the current date can be obtained using `datetime.date.today()`."
   ]
  },
  {
   "cell_type": "code",
   "execution_count": 74,
   "metadata": {},
   "outputs": [
    {
     "name": "stdout",
     "output_type": "stream",
     "text": [
      "datetime64[ns]\n"
     ]
    },
    {
     "data": {
      "text/plain": [
       "0      6646 days 22:44:02.293391\n",
       "1      6677 days 22:44:02.293391\n",
       "2      7522 days 22:44:02.293391\n",
       "3      6553 days 22:44:02.293391\n",
       "4     18713 days 22:44:02.293391\n",
       "                 ...            \n",
       "995    6766 days 22:44:02.293391\n",
       "996   12172 days 22:44:02.293391\n",
       "997    5470 days 22:44:02.293391\n",
       "998    4842 days 22:44:02.293391\n",
       "999    4520 days 22:44:02.293391\n",
       "Name: days_ago, Length: 1000, dtype: timedelta64[ns]"
      ]
     },
     "execution_count": 74,
     "metadata": {},
     "output_type": "execute_result"
    }
   ],
   "source": [
    "# Importing datetime\n",
    "from datetime import datetime\n",
    "\n",
    "# Check the data type of our date column\n",
    "print(df['date_measured'].dtype)\n",
    "\n",
    "# Convert 'date_measured' to datetime format with the correct format\n",
    "df['date_measured'] = pd.to_datetime(df['date_measured'], format='%d-%m-%Y')\n",
    "\n",
    "# Get the current date for reference\n",
    "reference_date = datetime.today()\n",
    "# Check date\n",
    "# print(reference_date)\n",
    "\n",
    "# Calculate the days ago and create the 'days_ago' column\n",
    "df['days_ago'] = (reference_date - df['date_measured'])\n",
    "\n",
    "# Checking new column days_ago\n",
    "df['days_ago']"
   ]
  },
  {
   "cell_type": "code",
   "execution_count": null,
   "metadata": {},
   "outputs": [],
   "source": []
  }
 ],
 "metadata": {
  "colab": {
   "provenance": []
  },
  "kernelspec": {
   "display_name": "Python 3 (ipykernel)",
   "language": "python",
   "name": "python3"
  },
  "language_info": {
   "codemirror_mode": {
    "name": "ipython",
    "version": 3
   },
   "file_extension": ".py",
   "mimetype": "text/x-python",
   "name": "python",
   "nbconvert_exporter": "python",
   "pygments_lexer": "ipython3",
   "version": "3.12.2"
  },
  "vscode": {
   "interpreter": {
    "hash": "63d17dc58a06b6a6d4136fb13c245dafcf53668da37b1c3052c24d689135f5bb"
   }
  }
 },
 "nbformat": 4,
 "nbformat_minor": 4
}
