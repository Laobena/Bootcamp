{
 "cells": [
  {
   "cell_type": "code",
   "execution_count": 2,
   "id": "059c0eb5-4c46-41b8-9dda-6ceea21ae4c8",
   "metadata": {},
   "outputs": [
    {
     "name": "stdout",
     "output_type": "stream",
     "text": [
      "Cross-Validation Scores: [0.70629371 0.84507042 0.8028169  0.79577465 0.76760563]\n",
      "Mean CV Score: 0.7835122623855019\n",
      "Best Hyperparameters: {'criterion': 'gini', 'max_depth': 3, 'min_samples_leaf': 1}\n",
      "Best Cross-Validation Score: 0.8185757904067763\n",
      "Test Set Score: 0.8202247191011236\n"
     ]
    }
   ],
   "source": [
    "#Implement k-fold cross-validation (cross_val_score()) to validate model performance and assess generalization capabilities. For example:\n",
    "\n",
    "import numpy as np\n",
    "import pandas as pd\n",
    "from sklearn.preprocessing import LabelEncoder\n",
    "from sklearn.tree import DecisionTreeClassifier\n",
    "from sklearn.model_selection import cross_val_score, train_test_split\n",
    "\n",
    "# Load the Titanic dataset\n",
    "df = pd.read_csv(\"titanic.csv\")\n",
    "\n",
    "# Preprocessing: Dropping unnecessary columns and handling missing values\n",
    "df = df.drop(['Cabin', 'PassengerId', 'Name', 'Ticket'], axis=1)\n",
    "df['Age'] = df['Age'].fillna(df['Age'].median())\n",
    "df = df.dropna(subset=['Embarked'])\n",
    "encoder = LabelEncoder()\n",
    "df['Sex'] = encoder.fit_transform(df['Sex'])\n",
    "df['Embarked'] = encoder.fit_transform(df['Embarked'])\n",
    "\n",
    "# Splitting into features (X) and target (y)\n",
    "X = df.drop('Survived', axis=1)\n",
    "y = df['Survived']\n",
    "\n",
    "# Splitting data into training and testing sets\n",
    "X_train, X_test, y_train, y_test = train_test_split(X, y, test_size=0.2, random_state=42)\n",
    "\n",
    "# Create a Decision Tree Classifier instance\n",
    "dt_classifier = DecisionTreeClassifier(random_state=42)\n",
    "\n",
    "# Perform k-fold cross-validation (k=5)\n",
    "cv_scores = cross_val_score(dt_classifier, X_train, y_train, cv=5)\n",
    "\n",
    "# Display the cross-validation scores\n",
    "print(\"Cross-Validation Scores:\", cv_scores)\n",
    "print(\"Mean CV Score:\", np.mean(cv_scores))\n",
    "\n",
    "\n",
    "\n",
    "#Use grid search (GridSearchCV) or random search (RandomizedSearchCV) to systematically explore a range of hyperparameters (e.g., max_depth, min_samples_leaf, criterion) and identify the optimal combination for improved model performance. For example:\n",
    "\n",
    "from sklearn.model_selection import GridSearchCV\n",
    "\n",
    "# Define the hyperparameter grid\n",
    "param_grid = {\n",
    "'criterion': ['gini', 'entropy'],\n",
    "'max_depth': [3, 5, 7, 10],\n",
    "'min_samples_leaf': [1, 2, 4, 6]\n",
    "}\n",
    "\n",
    "# Create a Decision Tree Classifier instance\n",
    "dt_classifier = DecisionTreeClassifier(random_state=42)\n",
    "\n",
    "# Create GridSearchCV instance with the hyperparameter grid and 5-fold cross-validation\n",
    "grid_search = GridSearchCV(estimator=dt_classifier, param_grid=param_grid, cv=5)\n",
    "\n",
    "# Fit the GridSearchCV instance on training data\n",
    "grid_search.fit(X_train, y_train)\n",
    "\n",
    "# Get the best hyperparameters and corresponding score\n",
    "best_params = grid_search.best_params_\n",
    "best_score = grid_search.best_score_\n",
    "\n",
    "# Evaluate the model performance on the test set using the best estimator\n",
    "best_model = grid_search.best_estimator_\n",
    "test_score = best_model.score(X_test, y_test)\n",
    "\n",
    "# Display the best parameters and scores\n",
    "print(\"Best Hyperparameters:\", best_params)\n",
    "print(\"Best Cross-Validation Score:\", best_score)\n",
    "print(\"Test Set Score:\", test_score)"
   ]
  }
 ],
 "metadata": {
  "kernelspec": {
   "display_name": "Python 3 (ipykernel)",
   "language": "python",
   "name": "python3"
  },
  "language_info": {
   "codemirror_mode": {
    "name": "ipython",
    "version": 3
   },
   "file_extension": ".py",
   "mimetype": "text/x-python",
   "name": "python",
   "nbconvert_exporter": "python",
   "pygments_lexer": "ipython3",
   "version": "3.12.2"
  }
 },
 "nbformat": 4,
 "nbformat_minor": 5
}
