{
 "cells": [
  {
   "cell_type": "markdown",
   "metadata": {
    "id": "Q3i8fPkhfVNb"
   },
   "source": [
    "## Multiple Linear Regression (MLR)\n",
    "We need to model the relationship between variables and report the model accuracy.\n",
    "\n",
    "Use scikit-learn to implement Multiple Linear Regression\n",
    "\n",
    "Create a model, train it, test it and use the model"
   ]
  },
  {
   "cell_type": "markdown",
   "metadata": {
    "id": "Fh6w6HG_-9pp"
   },
   "source": [
    "## Problem overview\n",
    "We will build a model in which we will estimate CO2 Emissions using the characteristics of cars e.g., Fuel Consumption, Engine Size and Cylinders. \n",
    "You are provided the Fuel Consumption Ratings dataset, which comprises model-specific fuel consumption, estimated carbon dioxide emissions, and other characteristics of autombile design and performance for new light-duty vehicles for retail sale in Canada. The original dataset can be found here - https://open.canada.ca/data/en/dataset/98f1a129-f628-4ce4-b24d-6f16bf24dd64\n",
    "\n",
    "The dataset includes the following variables:\n",
    "\n",
    "| Variables | Example |\n",
    "|------|----------------------------------------|\n",
    "| Model Year | Year Manufactured  e.g. 2014|                       | \n",
    "| Make | Car Manufacturer e.g. Acura                             |  \n",
    "| Model | Car Model e.g. ILX                              |\n",
    "| Vehicle Class | Car Class e.g. SUV                      |    \n",
    "| Engine Size | Total Cylinder size in litres e.g. 4.7                        |   \n",
    "| Cylinders | Number of cylinders e.g 6                             |\n",
    "| Transmission | Type of Transmission (A/M) & Number of Gears/Speeds e.g. A6                        |\n",
    "| Fuel | Type of Fuel e.g. Z  (premium gasoline), D (diesel)                              |\n",
    "| Fuel Consumption City | (litres/100 km) e.g. 9.9   |\n",
    "| Fuel Consumption Hwy | (litres/100 km) e.g. 8.9    |\n",
    "| Fuel Consumption | (litres/100 km, 55% City, 45% highway) e.g. 9.2        |\n",
    "| Fuel Consumption | (mpg) e.g. 33              |\n",
    "| CO2 Emissions | (g/km) e.g. 182 --> low --> 0 |\n",
    "| CO2 Rating | Scale from 1 (worst) to 10 (best)                            |\n",
    "| Smog Rating | Scale from 1 (worst) to 10 (best)                          |\n",
    "\n",
    "\n",
    "You need to **model the relationship between CO2 Emissions and other related feature(s)** in this dataset to determine how car design influences CO2 emissions."
   ]
  },
  {
   "cell_type": "markdown",
   "metadata": {
    "id": "mETcqDO4_m2s"
   },
   "source": [
    "## Imports"
   ]
  },
  {
   "cell_type": "code",
   "execution_count": 1,
   "metadata": {
    "executionInfo": {
     "elapsed": 527,
     "status": "ok",
     "timestamp": 1680523301686,
     "user": {
      "displayName": "Carmen Lewis",
      "userId": "02744010333164437336"
     },
     "user_tz": -120
    },
    "id": "msZ1ZuZgfVNd"
   },
   "outputs": [],
   "source": [
    "import numpy as np\n",
    "import pandas as pd\n",
    "import matplotlib.pyplot as plt\n",
    "import seaborn as sns\n",
    "\n",
    "#from sklearn.feature_selection import mutual_info_regression\n",
    "from sklearn.model_selection import train_test_split\n",
    "from sklearn.linear_model import LinearRegression\n",
    "from sklearn.metrics import mean_squared_error, mean_absolute_error, r2_score"
   ]
  },
  {
   "cell_type": "markdown",
   "metadata": {
    "id": "10AODlsJfVNe"
   },
   "source": [
    "## Load the data"
   ]
  },
  {
   "cell_type": "code",
   "execution_count": 2,
   "metadata": {
    "executionInfo": {
     "elapsed": 4,
     "status": "ok",
     "timestamp": 1680522058870,
     "user": {
      "displayName": "Carmen Lewis",
      "userId": "02744010333164437336"
     },
     "user_tz": -120
    },
    "id": "USjJ94SHfVNe"
   },
   "outputs": [
    {
     "data": {
      "text/html": [
       "<div>\n",
       "<style scoped>\n",
       "    .dataframe tbody tr th:only-of-type {\n",
       "        vertical-align: middle;\n",
       "    }\n",
       "\n",
       "    .dataframe tbody tr th {\n",
       "        vertical-align: top;\n",
       "    }\n",
       "\n",
       "    .dataframe thead th {\n",
       "        text-align: right;\n",
       "    }\n",
       "</style>\n",
       "<table border=\"1\" class=\"dataframe\">\n",
       "  <thead>\n",
       "    <tr style=\"text-align: right;\">\n",
       "      <th></th>\n",
       "      <th>Make</th>\n",
       "      <th>Model</th>\n",
       "      <th>Vehicle Class</th>\n",
       "      <th>Engine Size</th>\n",
       "      <th>Cylinders</th>\n",
       "      <th>Transmission</th>\n",
       "      <th>Fuel</th>\n",
       "      <th>Fuel Consumption City</th>\n",
       "      <th>Fuel Consumption Hwy</th>\n",
       "      <th>Fuel Consumption</th>\n",
       "      <th>Fuel Consumption Comb_mpg</th>\n",
       "      <th>CO2 Emissions</th>\n",
       "      <th>CO2 Rating</th>\n",
       "      <th>Smog Rating</th>\n",
       "    </tr>\n",
       "    <tr>\n",
       "      <th>Model Year</th>\n",
       "      <th></th>\n",
       "      <th></th>\n",
       "      <th></th>\n",
       "      <th></th>\n",
       "      <th></th>\n",
       "      <th></th>\n",
       "      <th></th>\n",
       "      <th></th>\n",
       "      <th></th>\n",
       "      <th></th>\n",
       "      <th></th>\n",
       "      <th></th>\n",
       "      <th></th>\n",
       "      <th></th>\n",
       "    </tr>\n",
       "  </thead>\n",
       "  <tbody>\n",
       "    <tr>\n",
       "      <th>2022</th>\n",
       "      <td>Acura</td>\n",
       "      <td>ILX</td>\n",
       "      <td>Compact</td>\n",
       "      <td>2.4</td>\n",
       "      <td>4</td>\n",
       "      <td>AM8</td>\n",
       "      <td>Z</td>\n",
       "      <td>9.9</td>\n",
       "      <td>7.0</td>\n",
       "      <td>8.6</td>\n",
       "      <td>33</td>\n",
       "      <td>200</td>\n",
       "      <td>6</td>\n",
       "      <td>3</td>\n",
       "    </tr>\n",
       "    <tr>\n",
       "      <th>2022</th>\n",
       "      <td>Acura</td>\n",
       "      <td>MDX SH-AWD</td>\n",
       "      <td>SUV: Small</td>\n",
       "      <td>3.5</td>\n",
       "      <td>6</td>\n",
       "      <td>AS10</td>\n",
       "      <td>Z</td>\n",
       "      <td>12.6</td>\n",
       "      <td>9.4</td>\n",
       "      <td>11.2</td>\n",
       "      <td>25</td>\n",
       "      <td>263</td>\n",
       "      <td>4</td>\n",
       "      <td>5</td>\n",
       "    </tr>\n",
       "    <tr>\n",
       "      <th>2022</th>\n",
       "      <td>Acura</td>\n",
       "      <td>RDX SH-AWD</td>\n",
       "      <td>SUV: Small</td>\n",
       "      <td>2.0</td>\n",
       "      <td>4</td>\n",
       "      <td>AS10</td>\n",
       "      <td>Z</td>\n",
       "      <td>11.0</td>\n",
       "      <td>8.6</td>\n",
       "      <td>9.9</td>\n",
       "      <td>29</td>\n",
       "      <td>232</td>\n",
       "      <td>5</td>\n",
       "      <td>6</td>\n",
       "    </tr>\n",
       "    <tr>\n",
       "      <th>2022</th>\n",
       "      <td>Acura</td>\n",
       "      <td>RDX SH-AWD A-SPEC</td>\n",
       "      <td>SUV: Small</td>\n",
       "      <td>2.0</td>\n",
       "      <td>4</td>\n",
       "      <td>AS10</td>\n",
       "      <td>Z</td>\n",
       "      <td>11.3</td>\n",
       "      <td>9.1</td>\n",
       "      <td>10.3</td>\n",
       "      <td>27</td>\n",
       "      <td>242</td>\n",
       "      <td>5</td>\n",
       "      <td>6</td>\n",
       "    </tr>\n",
       "    <tr>\n",
       "      <th>2022</th>\n",
       "      <td>Acura</td>\n",
       "      <td>TLX SH-AWD</td>\n",
       "      <td>Compact</td>\n",
       "      <td>2.0</td>\n",
       "      <td>4</td>\n",
       "      <td>AS10</td>\n",
       "      <td>Z</td>\n",
       "      <td>11.2</td>\n",
       "      <td>8.0</td>\n",
       "      <td>9.8</td>\n",
       "      <td>29</td>\n",
       "      <td>230</td>\n",
       "      <td>5</td>\n",
       "      <td>7</td>\n",
       "    </tr>\n",
       "    <tr>\n",
       "      <th>...</th>\n",
       "      <td>...</td>\n",
       "      <td>...</td>\n",
       "      <td>...</td>\n",
       "      <td>...</td>\n",
       "      <td>...</td>\n",
       "      <td>...</td>\n",
       "      <td>...</td>\n",
       "      <td>...</td>\n",
       "      <td>...</td>\n",
       "      <td>...</td>\n",
       "      <td>...</td>\n",
       "      <td>...</td>\n",
       "      <td>...</td>\n",
       "      <td>...</td>\n",
       "    </tr>\n",
       "    <tr>\n",
       "      <th>2022</th>\n",
       "      <td>Volvo</td>\n",
       "      <td>XC40 T5 AWD</td>\n",
       "      <td>SUV: Small</td>\n",
       "      <td>2.0</td>\n",
       "      <td>4</td>\n",
       "      <td>AS8</td>\n",
       "      <td>Z</td>\n",
       "      <td>10.7</td>\n",
       "      <td>7.7</td>\n",
       "      <td>9.4</td>\n",
       "      <td>30</td>\n",
       "      <td>219</td>\n",
       "      <td>5</td>\n",
       "      <td>5</td>\n",
       "    </tr>\n",
       "    <tr>\n",
       "      <th>2022</th>\n",
       "      <td>Volvo</td>\n",
       "      <td>XC60 B5 AWD</td>\n",
       "      <td>SUV: Small</td>\n",
       "      <td>2.0</td>\n",
       "      <td>4</td>\n",
       "      <td>AS8</td>\n",
       "      <td>Z</td>\n",
       "      <td>10.5</td>\n",
       "      <td>8.1</td>\n",
       "      <td>9.4</td>\n",
       "      <td>30</td>\n",
       "      <td>219</td>\n",
       "      <td>5</td>\n",
       "      <td>5</td>\n",
       "    </tr>\n",
       "    <tr>\n",
       "      <th>2022</th>\n",
       "      <td>Volvo</td>\n",
       "      <td>XC60 B6 AWD</td>\n",
       "      <td>SUV: Small</td>\n",
       "      <td>2.0</td>\n",
       "      <td>4</td>\n",
       "      <td>AS8</td>\n",
       "      <td>Z</td>\n",
       "      <td>11.0</td>\n",
       "      <td>8.7</td>\n",
       "      <td>9.9</td>\n",
       "      <td>29</td>\n",
       "      <td>232</td>\n",
       "      <td>5</td>\n",
       "      <td>7</td>\n",
       "    </tr>\n",
       "    <tr>\n",
       "      <th>2022</th>\n",
       "      <td>Volvo</td>\n",
       "      <td>XC90 T5 AWD</td>\n",
       "      <td>SUV: Standard</td>\n",
       "      <td>2.0</td>\n",
       "      <td>4</td>\n",
       "      <td>AS8</td>\n",
       "      <td>Z</td>\n",
       "      <td>11.5</td>\n",
       "      <td>8.4</td>\n",
       "      <td>10.1</td>\n",
       "      <td>28</td>\n",
       "      <td>236</td>\n",
       "      <td>5</td>\n",
       "      <td>5</td>\n",
       "    </tr>\n",
       "    <tr>\n",
       "      <th>2022</th>\n",
       "      <td>Volvo</td>\n",
       "      <td>XC90 T6 AWD</td>\n",
       "      <td>SUV: Standard</td>\n",
       "      <td>2.0</td>\n",
       "      <td>4</td>\n",
       "      <td>AS8</td>\n",
       "      <td>Z</td>\n",
       "      <td>12.4</td>\n",
       "      <td>8.9</td>\n",
       "      <td>10.8</td>\n",
       "      <td>26</td>\n",
       "      <td>252</td>\n",
       "      <td>5</td>\n",
       "      <td>7</td>\n",
       "    </tr>\n",
       "  </tbody>\n",
       "</table>\n",
       "<p>955 rows × 14 columns</p>\n",
       "</div>"
      ],
      "text/plain": [
       "             Make              Model  Vehicle Class  Engine Size  Cylinders  \\\n",
       "Model Year                                                                    \n",
       "2022        Acura                ILX        Compact          2.4          4   \n",
       "2022        Acura         MDX SH-AWD     SUV: Small          3.5          6   \n",
       "2022        Acura         RDX SH-AWD     SUV: Small          2.0          4   \n",
       "2022        Acura  RDX SH-AWD A-SPEC     SUV: Small          2.0          4   \n",
       "2022        Acura         TLX SH-AWD        Compact          2.0          4   \n",
       "...           ...                ...            ...          ...        ...   \n",
       "2022        Volvo        XC40 T5 AWD     SUV: Small          2.0          4   \n",
       "2022        Volvo        XC60 B5 AWD     SUV: Small          2.0          4   \n",
       "2022        Volvo        XC60 B6 AWD     SUV: Small          2.0          4   \n",
       "2022        Volvo        XC90 T5 AWD  SUV: Standard          2.0          4   \n",
       "2022        Volvo        XC90 T6 AWD  SUV: Standard          2.0          4   \n",
       "\n",
       "           Transmission Fuel  Fuel Consumption City  Fuel Consumption Hwy  \\\n",
       "Model Year                                                                  \n",
       "2022                AM8    Z                    9.9                   7.0   \n",
       "2022               AS10    Z                   12.6                   9.4   \n",
       "2022               AS10    Z                   11.0                   8.6   \n",
       "2022               AS10    Z                   11.3                   9.1   \n",
       "2022               AS10    Z                   11.2                   8.0   \n",
       "...                 ...  ...                    ...                   ...   \n",
       "2022                AS8    Z                   10.7                   7.7   \n",
       "2022                AS8    Z                   10.5                   8.1   \n",
       "2022                AS8    Z                   11.0                   8.7   \n",
       "2022                AS8    Z                   11.5                   8.4   \n",
       "2022                AS8    Z                   12.4                   8.9   \n",
       "\n",
       "            Fuel Consumption  Fuel Consumption Comb_mpg  CO2 Emissions  \\\n",
       "Model Year                                                               \n",
       "2022                     8.6                         33            200   \n",
       "2022                    11.2                         25            263   \n",
       "2022                     9.9                         29            232   \n",
       "2022                    10.3                         27            242   \n",
       "2022                     9.8                         29            230   \n",
       "...                      ...                        ...            ...   \n",
       "2022                     9.4                         30            219   \n",
       "2022                     9.4                         30            219   \n",
       "2022                     9.9                         29            232   \n",
       "2022                    10.1                         28            236   \n",
       "2022                    10.8                         26            252   \n",
       "\n",
       "            CO2 Rating  Smog Rating  \n",
       "Model Year                           \n",
       "2022                 6            3  \n",
       "2022                 4            5  \n",
       "2022                 5            6  \n",
       "2022                 5            6  \n",
       "2022                 5            7  \n",
       "...                ...          ...  \n",
       "2022                 5            5  \n",
       "2022                 5            5  \n",
       "2022                 5            7  \n",
       "2022                 5            5  \n",
       "2022                 5            7  \n",
       "\n",
       "[955 rows x 14 columns]"
      ]
     },
     "execution_count": 2,
     "metadata": {},
     "output_type": "execute_result"
    }
   ],
   "source": [
    "df = pd.read_csv('Fuel_Consumption_Ratings.csv', index_col=0)\n",
    "df"
   ]
  },
  {
   "cell_type": "code",
   "execution_count": 3,
   "metadata": {},
   "outputs": [
    {
     "name": "stdout",
     "output_type": "stream",
     "text": [
      "<class 'pandas.core.frame.DataFrame'>\n",
      "Int64Index: 955 entries, 2022 to 2022\n",
      "Data columns (total 14 columns):\n",
      " #   Column                     Non-Null Count  Dtype  \n",
      "---  ------                     --------------  -----  \n",
      " 0   Make                       955 non-null    object \n",
      " 1   Model                      955 non-null    object \n",
      " 2   Vehicle Class              955 non-null    object \n",
      " 3   Engine Size                955 non-null    float64\n",
      " 4   Cylinders                  955 non-null    int64  \n",
      " 5   Transmission               955 non-null    object \n",
      " 6   Fuel                       955 non-null    object \n",
      " 7   Fuel Consumption City      955 non-null    float64\n",
      " 8   Fuel Consumption Hwy       955 non-null    float64\n",
      " 9   Fuel Consumption           955 non-null    float64\n",
      " 10  Fuel Consumption Comb_mpg  955 non-null    int64  \n",
      " 11  CO2 Emissions              955 non-null    int64  \n",
      " 12  CO2 Rating                 955 non-null    int64  \n",
      " 13  Smog Rating                955 non-null    int64  \n",
      "dtypes: float64(4), int64(5), object(5)\n",
      "memory usage: 111.9+ KB\n"
     ]
    }
   ],
   "source": [
    "df.info()"
   ]
  },
  {
   "cell_type": "code",
   "execution_count": 4,
   "metadata": {},
   "outputs": [
    {
     "data": {
      "text/plain": [
       "Make                         False\n",
       "Model                        False\n",
       "Vehicle Class                False\n",
       "Engine Size                  False\n",
       "Cylinders                    False\n",
       "Transmission                 False\n",
       "Fuel                         False\n",
       "Fuel Consumption City        False\n",
       "Fuel Consumption Hwy         False\n",
       "Fuel Consumption             False\n",
       "Fuel Consumption Comb_mpg    False\n",
       "CO2 Emissions                False\n",
       "CO2 Rating                   False\n",
       "Smog Rating                  False\n",
       "dtype: bool"
      ]
     },
     "execution_count": 4,
     "metadata": {},
     "output_type": "execute_result"
    }
   ],
   "source": [
    "df.isnull().any()"
   ]
  },
  {
   "cell_type": "code",
   "execution_count": 5,
   "metadata": {},
   "outputs": [
    {
     "data": {
      "text/plain": [
       "<AxesSubplot:>"
      ]
     },
     "execution_count": 5,
     "metadata": {},
     "output_type": "execute_result"
    },
    {
     "data": {
      "image/png": "[encoded data removed]",
      "text/plain": [
       "<Figure size 720x720 with 2 Axes>"
      ]
     },
     "metadata": {
      "needs_background": "light"
     },
     "output_type": "display_data"
    }
   ],
   "source": [
    "plt.figure(figsize=(10,10))\n",
    "sns.heatmap(df.corr(),annot=True,cmap='YlGnBu')"
   ]
  },
  {
   "cell_type": "markdown",
   "metadata": {},
   "source": [
    "\n",
    "Next, we are interested to know which features (attributes except for the labels 'CO2 Emissions') are important in determining the values of the labels ('CO2 Emissions'). We find out the pairwise correlation of labels with the features (other attributes) and look for the top values of the correlation. "
   ]
  },
  {
   "cell_type": "code",
   "execution_count": 6,
   "metadata": {},
   "outputs": [
    {
     "data": {
      "text/plain": [
       "<AxesSubplot:>"
      ]
     },
     "execution_count": 6,
     "metadata": {},
     "output_type": "execute_result"
    },
    {
     "data": {
      "image/png": "[encoded data removed]",
      "text/plain": [
       "<Figure size 432x288 with 2 Axes>"
      ]
     },
     "metadata": {
      "needs_background": "light"
     },
     "output_type": "display_data"
    }
   ],
   "source": [
    "corr = df.corr()[['CO2 Emissions']].sort_values(by='CO2 Emissions', ascending=False)\n",
    "sns.heatmap(corr, annot=True, cmap='YlGnBu')"
   ]
  },
  {
   "cell_type": "markdown",
   "metadata": {},
   "source": [
    "Here we see that 'Fuel Consumption', 'Cylinders', and 'Engine Size' have high correlation with the 'CO2 Emissions' (**label / y value / dependent variable**). So, we will use the three attributes as **features / X values / independent variables**.\n",
    "\n",
    "We do not use 'Fuel Consumption City' and 'Fuel Consumption Hwy' as they are highly correlated with 'Fuel Consumption' (= 55% City + 45% Highway).\n",
    " \n",
    "*(Note: Remember the condition for MLR model that it should have little or no multicollinearity, the independent variables should not be correlated with each other.)*"
   ]
  },
  {
   "cell_type": "code",
   "execution_count": 7,
   "metadata": {},
   "outputs": [
    {
     "data": {
      "text/html": [
       "<div>\n",
       "<style scoped>\n",
       "    .dataframe tbody tr th:only-of-type {\n",
       "        vertical-align: middle;\n",
       "    }\n",
       "\n",
       "    .dataframe tbody tr th {\n",
       "        vertical-align: top;\n",
       "    }\n",
       "\n",
       "    .dataframe thead th {\n",
       "        text-align: right;\n",
       "    }\n",
       "</style>\n",
       "<table border=\"1\" class=\"dataframe\">\n",
       "  <thead>\n",
       "    <tr style=\"text-align: right;\">\n",
       "      <th></th>\n",
       "      <th>Engine Size</th>\n",
       "      <th>Cylinders</th>\n",
       "      <th>Fuel Consumption</th>\n",
       "      <th>CO2 Emissions</th>\n",
       "    </tr>\n",
       "    <tr>\n",
       "      <th>Model Year</th>\n",
       "      <th></th>\n",
       "      <th></th>\n",
       "      <th></th>\n",
       "      <th></th>\n",
       "    </tr>\n",
       "  </thead>\n",
       "  <tbody>\n",
       "    <tr>\n",
       "      <th>2022</th>\n",
       "      <td>2.4</td>\n",
       "      <td>4</td>\n",
       "      <td>8.6</td>\n",
       "      <td>200</td>\n",
       "    </tr>\n",
       "    <tr>\n",
       "      <th>2022</th>\n",
       "      <td>3.5</td>\n",
       "      <td>6</td>\n",
       "      <td>11.2</td>\n",
       "      <td>263</td>\n",
       "    </tr>\n",
       "    <tr>\n",
       "      <th>2022</th>\n",
       "      <td>2.0</td>\n",
       "      <td>4</td>\n",
       "      <td>9.9</td>\n",
       "      <td>232</td>\n",
       "    </tr>\n",
       "    <tr>\n",
       "      <th>2022</th>\n",
       "      <td>2.0</td>\n",
       "      <td>4</td>\n",
       "      <td>10.3</td>\n",
       "      <td>242</td>\n",
       "    </tr>\n",
       "    <tr>\n",
       "      <th>2022</th>\n",
       "      <td>2.0</td>\n",
       "      <td>4</td>\n",
       "      <td>9.8</td>\n",
       "      <td>230</td>\n",
       "    </tr>\n",
       "  </tbody>\n",
       "</table>\n",
       "</div>"
      ],
      "text/plain": [
       "            Engine Size  Cylinders  Fuel Consumption  CO2 Emissions\n",
       "Model Year                                                         \n",
       "2022                2.4          4               8.6            200\n",
       "2022                3.5          6              11.2            263\n",
       "2022                2.0          4               9.9            232\n",
       "2022                2.0          4              10.3            242\n",
       "2022                2.0          4               9.8            230"
      ]
     },
     "execution_count": 7,
     "metadata": {},
     "output_type": "execute_result"
    }
   ],
   "source": [
    "df_attr = df[['Engine Size','Cylinders','Fuel Consumption', 'CO2 Emissions']]\n",
    "df_attr.head()"
   ]
  },
  {
   "cell_type": "code",
   "execution_count": 8,
   "metadata": {},
   "outputs": [
    {
     "data": {
      "text/plain": [
       "<AxesSubplot:>"
      ]
     },
     "execution_count": 8,
     "metadata": {},
     "output_type": "execute_result"
    },
    {
     "data": {
      "image/png": "[encoded data removed]",
      "text/plain": [
       "<Figure size 432x288 with 2 Axes>"
      ]
     },
     "metadata": {
      "needs_background": "light"
     },
     "output_type": "display_data"
    }
   ],
   "source": [
    "sns.heatmap(df_attr.corr(),annot=True,cmap='YlGnBu')"
   ]
  },
  {
   "cell_type": "code",
   "execution_count": 9,
   "metadata": {},
   "outputs": [
    {
     "data": {
      "image/png": "[encoded data removed]",
      "text/plain": [
       "<Figure size 432x288 with 4 Axes>"
      ]
     },
     "metadata": {
      "needs_background": "light"
     },
     "output_type": "display_data"
    }
   ],
   "source": [
    "df_attr.hist()\n",
    "plt.show()"
   ]
  },
  {
   "cell_type": "code",
   "execution_count": 10,
   "metadata": {},
   "outputs": [],
   "source": [
    "X = df_attr.drop('CO2 Emissions', axis=1)   # drop the CO2 emission variable from X\n",
    "y = df_attr[['CO2 Emissions']]"
   ]
  },
  {
   "cell_type": "markdown",
   "metadata": {},
   "source": [
    "Train Test Split"
   ]
  },
  {
   "cell_type": "code",
   "execution_count": 11,
   "metadata": {},
   "outputs": [],
   "source": [
    "X_train, X_test, y_train, y_test = train_test_split(X, y, test_size=0.20, random_state=42)"
   ]
  },
  {
   "cell_type": "code",
   "execution_count": 12,
   "metadata": {},
   "outputs": [
    {
     "name": "stdout",
     "output_type": "stream",
     "text": [
      "X_train: (764, 3)\n",
      "X_test: (191, 3)\n",
      "Y_train: (764, 1)\n",
      "Y_test: (191, 1)\n"
     ]
    }
   ],
   "source": [
    "print(\"X_train:\",X_train.shape)\n",
    "print(\"X_test:\",X_test.shape)\n",
    "print(\"Y_train:\",y_train.shape)\n",
    "print(\"Y_test:\",y_test.shape)"
   ]
  },
  {
   "cell_type": "markdown",
   "metadata": {},
   "source": [
    "Import Multiple Linear Regression Model"
   ]
  },
  {
   "cell_type": "code",
   "execution_count": 13,
   "metadata": {},
   "outputs": [
    {
     "data": {
      "text/html": [
       "<style>#sk-container-id-1 {color: black;background-color: white;}#sk-container-id-1 pre{padding: 0;}#sk-container-id-1 div.sk-toggleable {background-color: white;}#sk-container-id-1 label.sk-toggleable__label {cursor: pointer;display: block;width: 100%;margin-bottom: 0;padding: 0.3em;box-sizing: border-box;text-align: center;}#sk-container-id-1 label.sk-toggleable__label-arrow:before {content: \"▸\";float: left;margin-right: 0.25em;color: #696969;}#sk-container-id-1 label.sk-toggleable__label-arrow:hover:before {color: black;}#sk-container-id-1 div.sk-estimator:hover label.sk-toggleable__label-arrow:before {color: black;}#sk-container-id-1 div.sk-toggleable__content {max-height: 0;max-width: 0;overflow: hidden;text-align: left;background-color: #f0f8ff;}#sk-container-id-1 div.sk-toggleable__content pre {margin: 0.2em;color: black;border-radius: 0.25em;background-color: #f0f8ff;}#sk-container-id-1 input.sk-toggleable__control:checked~div.sk-toggleable__content {max-height: 200px;max-width: 100%;overflow: auto;}#sk-container-id-1 input.sk-toggleable__control:checked~label.sk-toggleable__label-arrow:before {content: \"▾\";}#sk-container-id-1 div.sk-estimator input.sk-toggleable__control:checked~label.sk-toggleable__label {background-color: #d4ebff;}#sk-container-id-1 div.sk-label input.sk-toggleable__control:checked~label.sk-toggleable__label {background-color: #d4ebff;}#sk-container-id-1 input.sk-hidden--visually {border: 0;clip: rect(1px 1px 1px 1px);clip: rect(1px, 1px, 1px, 1px);height: 1px;margin: -1px;overflow: hidden;padding: 0;position: absolute;width: 1px;}#sk-container-id-1 div.sk-estimator {font-family: monospace;background-color: #f0f8ff;border: 1px dotted black;border-radius: 0.25em;box-sizing: border-box;margin-bottom: 0.5em;}#sk-container-id-1 div.sk-estimator:hover {background-color: #d4ebff;}#sk-container-id-1 div.sk-parallel-item::after {content: \"\";width: 100%;border-bottom: 1px solid gray;flex-grow: 1;}#sk-container-id-1 div.sk-label:hover label.sk-toggleable__label {background-color: #d4ebff;}#sk-container-id-1 div.sk-serial::before {content: \"\";position: absolute;border-left: 1px solid gray;box-sizing: border-box;top: 0;bottom: 0;left: 50%;z-index: 0;}#sk-container-id-1 div.sk-serial {display: flex;flex-direction: column;align-items: center;background-color: white;padding-right: 0.2em;padding-left: 0.2em;position: relative;}#sk-container-id-1 div.sk-item {position: relative;z-index: 1;}#sk-container-id-1 div.sk-parallel {display: flex;align-items: stretch;justify-content: center;background-color: white;position: relative;}#sk-container-id-1 div.sk-item::before, #sk-container-id-1 div.sk-parallel-item::before {content: \"\";position: absolute;border-left: 1px solid gray;box-sizing: border-box;top: 0;bottom: 0;left: 50%;z-index: -1;}#sk-container-id-1 div.sk-parallel-item {display: flex;flex-direction: column;z-index: 1;position: relative;background-color: white;}#sk-container-id-1 div.sk-parallel-item:first-child::after {align-self: flex-end;width: 50%;}#sk-container-id-1 div.sk-parallel-item:last-child::after {align-self: flex-start;width: 50%;}#sk-container-id-1 div.sk-parallel-item:only-child::after {width: 0;}#sk-container-id-1 div.sk-dashed-wrapped {border: 1px dashed gray;margin: 0 0.4em 0.5em 0.4em;box-sizing: border-box;padding-bottom: 0.4em;background-color: white;}#sk-container-id-1 div.sk-label label {font-family: monospace;font-weight: bold;display: inline-block;line-height: 1.2em;}#sk-container-id-1 div.sk-label-container {text-align: center;}#sk-container-id-1 div.sk-container {/* jupyter's `normalize.less` sets `[hidden] { display: none; }` but bootstrap.min.css set `[hidden] { display: none !important; }` so we also need the `!important` here to be able to override the default hidden behavior on the sphinx rendered scikit-learn.org. See: https://github.com/scikit-learn/scikit-learn/issues/21755 */display: inline-block !important;position: relative;}#sk-container-id-1 div.sk-text-repr-fallback {display: none;}</style><div id=\"sk-container-id-1\" class=\"sk-top-container\"><div class=\"sk-text-repr-fallback\"><pre>LinearRegression()</pre><b>In a Jupyter environment, please rerun this cell to show the HTML representation or trust the notebook. <br />On GitHub, the HTML representation is unable to render, please try loading this page with nbviewer.org.</b></div><div class=\"sk-container\" hidden><div class=\"sk-item\"><div class=\"sk-estimator sk-toggleable\"><input class=\"sk-toggleable__control sk-hidden--visually\" id=\"sk-estimator-id-1\" type=\"checkbox\" checked><label for=\"sk-estimator-id-1\" class=\"sk-toggleable__label sk-toggleable__label-arrow\">LinearRegression</label><div class=\"sk-toggleable__content\"><pre>LinearRegression()</pre></div></div></div></div></div>"
      ],
      "text/plain": [
       "LinearRegression()"
      ]
     },
     "execution_count": 13,
     "metadata": {},
     "output_type": "execute_result"
    }
   ],
   "source": [
    "linreg = LinearRegression()\n",
    "linreg.fit(X_train,y_train)"
   ]
  },
  {
   "cell_type": "code",
   "execution_count": 14,
   "metadata": {},
   "outputs": [
    {
     "data": {
      "text/plain": [
       "array([[305.41858331],\n",
       "       [241.22092797],\n",
       "       [244.84275371],\n",
       "       [190.69407041],\n",
       "       [334.42680651],\n",
       "       [266.36138807],\n",
       "       [318.82212717],\n",
       "       [262.55529896],\n",
       "       [287.9828124 ],\n",
       "       [240.97499062],\n",
       "       [349.89785888],\n",
       "       [272.22470669],\n",
       "       [322.68989027],\n",
       "       [274.09691426],\n",
       "       [271.91709536],\n",
       "       [285.98725687],\n",
       "       [181.02466268],\n",
       "       [248.7413538 ],\n",
       "       [285.98725687],\n",
       "       [204.17984625],\n",
       "       [229.42309633],\n",
       "       [279.8985589 ],\n",
       "       [258.62586189],\n",
       "       [188.71907288],\n",
       "       [213.90064897],\n",
       "       [254.75809879],\n",
       "       [229.61763869],\n",
       "       [281.82216145],\n",
       "       [270.22915116],\n",
       "       [250.8903357 ],\n",
       "       [219.70229361],\n",
       "       [289.56796663],\n",
       "       [233.32169641],\n",
       "       [302.89003709],\n",
       "       [295.61554862],\n",
       "       [204.16956725],\n",
       "       [196.37274638],\n",
       "       [186.68278065],\n",
       "       [332.49292496],\n",
       "       [194.61322849],\n",
       "       [328.75803025],\n",
       "       [301.22265089],\n",
       "       [320.93075167],\n",
       "       [279.8985589 ],\n",
       "       [223.81599405],\n",
       "       [272.2144277 ],\n",
       "       [322.82351723],\n",
       "       [258.68753587],\n",
       "       [379.26432981],\n",
       "       [233.23946443],\n",
       "       [152.06783447],\n",
       "       [320.79712471],\n",
       "       [341.83416337],\n",
       "       [246.81775125],\n",
       "       [215.83453052],\n",
       "       [194.61322849],\n",
       "       [392.87345362],\n",
       "       [252.88589123],\n",
       "       [270.33194113],\n",
       "       [349.99036985],\n",
       "       [301.51998323],\n",
       "       [355.81257248],\n",
       "       [190.7454654 ],\n",
       "       [237.13806452],\n",
       "       [313.1541095 ],\n",
       "       [309.15271944],\n",
       "       [276.0307958 ],\n",
       "       [192.62795196],\n",
       "       [437.01503944],\n",
       "       [260.59058042],\n",
       "       [179.09078113],\n",
       "       [326.69128032],\n",
       "       [289.56796663],\n",
       "       [313.12327251],\n",
       "       [202.34875468],\n",
       "       [202.24596471],\n",
       "       [219.70229361],\n",
       "       [175.22301804],\n",
       "       [219.7434096 ],\n",
       "       [277.96467735],\n",
       "       [235.41928333],\n",
       "       [140.37203422],\n",
       "       [330.52820642],\n",
       "       [221.67729114],\n",
       "       [167.53888684],\n",
       "       [324.75739877],\n",
       "       [283.76632199],\n",
       "       [237.10722753],\n",
       "       [268.3569436 ],\n",
       "       [264.48918051],\n",
       "       [295.35933227],\n",
       "       [297.08839245],\n",
       "       [299.58610168],\n",
       "       [254.80949378],\n",
       "       [351.5035711 ],\n",
       "       [180.90169401],\n",
       "       [206.16512278],\n",
       "       [167.44637587],\n",
       "       [266.35110907],\n",
       "       [219.70229361],\n",
       "       [243.15480951],\n",
       "       [291.54296416],\n",
       "       [479.87756521],\n",
       "       [204.16956725],\n",
       "       [346.12260676],\n",
       "       [237.35316488],\n",
       "       [167.44637587],\n",
       "       [150.13395292],\n",
       "       [291.92252847],\n",
       "       [303.45386477],\n",
       "       [307.02429553],\n",
       "       [223.5700567 ],\n",
       "       [357.54087409],\n",
       "       [206.1240068 ],\n",
       "       [289.61936161],\n",
       "       [221.63617515],\n",
       "       [274.15858824],\n",
       "       [188.76018887],\n",
       "       [277.93384036],\n",
       "       [343.94202928],\n",
       "       [219.70229361],\n",
       "       [254.75809879],\n",
       "       [288.05476538],\n",
       "       [217.81980705],\n",
       "       [334.29317954],\n",
       "       [274.09691426],\n",
       "       [367.3027928 ],\n",
       "       [383.1320929 ],\n",
       "       [283.52038464],\n",
       "       [260.31380608],\n",
       "       [190.69407041],\n",
       "       [159.59816   ],\n",
       "       [243.17536751],\n",
       "       [235.17334598],\n",
       "       [210.03288588],\n",
       "       [167.53888684],\n",
       "       [182.90714924],\n",
       "       [281.93523041],\n",
       "       [196.45459906],\n",
       "       [322.82351723],\n",
       "       [175.20246005],\n",
       "       [215.83453052],\n",
       "       [248.76191179],\n",
       "       [262.53474097],\n",
       "       [196.54711004],\n",
       "       [202.59469203],\n",
       "       [213.83897499],\n",
       "       [240.97499062],\n",
       "       [307.32162787],\n",
       "       [262.46278799],\n",
       "       [213.90064897],\n",
       "       [182.90714924],\n",
       "       [243.15480951],\n",
       "       [348.0564883 ],\n",
       "       [297.65222013],\n",
       "       [200.41487313],\n",
       "       [272.22470669],\n",
       "       [285.98725687],\n",
       "       [221.67729114],\n",
       "       [278.02635133],\n",
       "       [351.83174042],\n",
       "       [324.84990975],\n",
       "       [227.43781979],\n",
       "       [188.71907288],\n",
       "       [371.26306686],\n",
       "       [289.81390398],\n",
       "       [210.03288588],\n",
       "       [274.09691426],\n",
       "       [219.70229361],\n",
       "       [260.34464307],\n",
       "       [194.56183351],\n",
       "       [235.41928333],\n",
       "       [277.74957699],\n",
       "       [264.48918051],\n",
       "       [324.84990975],\n",
       "       [184.89242577],\n",
       "       [233.48540178],\n",
       "       [233.23946443],\n",
       "       [239.04110907],\n",
       "       [346.03009578],\n",
       "       [192.67934694],\n",
       "       [231.30558289],\n",
       "       [256.66114335],\n",
       "       [217.76841206],\n",
       "       [281.83244044],\n",
       "       [196.49571505],\n",
       "       [217.76841206],\n",
       "       [215.83453052],\n",
       "       [209.9099172 ],\n",
       "       [274.12775125],\n",
       "       [181.02466268]])"
      ]
     },
     "execution_count": 14,
     "metadata": {},
     "output_type": "execute_result"
    }
   ],
   "source": [
    "y_pred=linreg.predict(X_test)\n",
    "y_pred"
   ]
  },
  {
   "cell_type": "code",
   "execution_count": 15,
   "metadata": {},
   "outputs": [
    {
     "name": "stdout",
     "output_type": "stream",
     "text": [
      "Intercept:  [21.95450118]\n",
      "Coefficients:  [ 0.10278997  3.93933678 19.33881546]\n"
     ]
    }
   ],
   "source": [
    "# The coefficients\n",
    "print ('Intercept: ',linreg.intercept_)    #21.95450118\n",
    "print ('Coefficients: ', linreg.coef_[0])  #0.10278997  3.93933678 19.33881546"
   ]
  },
  {
   "cell_type": "code",
   "execution_count": 16,
   "metadata": {},
   "outputs": [
    {
     "name": "stdout",
     "output_type": "stream",
     "text": [
      "97.69419383209652\n"
     ]
    }
   ],
   "source": [
    "Accuracy=r2_score(y_test,y_pred)*100\n",
    "print(Accuracy)"
   ]
  },
  {
   "cell_type": "code",
   "execution_count": 17,
   "metadata": {},
   "outputs": [
    {
     "name": "stdout",
     "output_type": "stream",
     "text": [
      "590.549292926\n"
     ]
    },
    {
     "name": "stderr",
     "output_type": "stream",
     "text": [
      "C:\\Users\\moumi\\AppData\\Roaming\\Python\\Python39\\site-packages\\sklearn\\base.py:439: UserWarning: X does not have valid feature names, but LinearRegression was fitted with feature names\n",
      "  warnings.warn(\n"
     ]
    },
    {
     "data": {
      "text/plain": [
       "array([[590.54929307]])"
      ]
     },
     "execution_count": 17,
     "metadata": {},
     "output_type": "execute_result"
    }
   ],
   "source": [
    "# Prediction\n",
    "# What is the expected value of CO2 Emission based on the following observation values?\n",
    "# Engine Size: 8.00\n",
    "# Cylinders: 16.00\n",
    "# Fuel Consumption: 26.10\n",
    "\n",
    "# CO2 Emissions  = Intercept + Engine Size * Coefficient_1  + Cylinders * Coefficient_2 + Fuel Consumption * Coefficient_3\n",
    "# CO2 Emissions  = 21.95450118 + Engine Size * 0.10278997  + Cylinders * 3.93933678 + Fuel Consumption * 19.33881546\n",
    "print(21.95450118 + 8.00 * 0.10278997 + 16 * 3.93933678 + 26.10 * 19.33881546) #590.549292926\n",
    "\n",
    "new_data = [[8.00], [16.00], [26.10]]\n",
    "new_data = pd.DataFrame(new_data).T\n",
    "linreg.predict(new_data)"
   ]
  },
  {
   "cell_type": "code",
   "execution_count": 18,
   "metadata": {},
   "outputs": [
    {
     "name": "stdout",
     "output_type": "stream",
     "text": [
      "Mean Squared Error: 89.94818456396686\n",
      "R-squared: 0.9769419383209652\n",
      "Mean Absolute Error: 5.834784436412046\n"
     ]
    }
   ],
   "source": [
    "# Calculate the performance metrics\n",
    "mse = mean_squared_error(y_test, y_pred)\n",
    "r2 = r2_score(y_test, y_pred)\n",
    "mae = mean_absolute_error(y_test, y_pred)\n",
    "\n",
    "print(f'Mean Squared Error: {mse}')\n",
    "print(f'R-squared: {r2}')\n",
    "print(f'Mean Absolute Error: {mae}')"
   ]
  },
  {
   "cell_type": "markdown",
   "metadata": {},
   "source": [
    "R2 is close to 1. \n",
    "Remeber, MAE and MSE should be low to show that the model performs well."
   ]
  },
  {
   "cell_type": "code",
   "execution_count": 19,
   "metadata": {},
   "outputs": [
    {
     "data": {
      "text/plain": [
       "Text(0.5, 1.0, 'Actual vs. Predicted CO2 emission')"
      ]
     },
     "execution_count": 19,
     "metadata": {},
     "output_type": "execute_result"
    },
    {
     "data": {
      "image/png": "[encoded data removed]",
      "text/plain": [
       "<Figure size 432x288 with 1 Axes>"
      ]
     },
     "metadata": {
      "needs_background": "light"
     },
     "output_type": "display_data"
    }
   ],
   "source": [
    "# Plotting the actual vs predicted values\n",
    "# plt.scatter(y_test, y_pred)\n",
    "# plt.plot([y_test.min(), y_test.max()], [y_test.min(), y_test.max()], '--k')\n",
    "sns.regplot(x=y_test,y=y_pred,ci=99, marker=\"x\", color=\".3\", line_kws=dict(color=\"r\"))\n",
    "plt.xlabel('Actual')\n",
    "plt.ylabel('Predicted')\n",
    "plt.title('Actual vs. Predicted CO2 emission')"
   ]
  },
  {
   "cell_type": "markdown",
   "metadata": {},
   "source": [
    "# Feature Scaling"
   ]
  },
  {
   "cell_type": "code",
   "execution_count": 20,
   "metadata": {},
   "outputs": [
    {
     "name": "stdout",
     "output_type": "stream",
     "text": [
      "[[-0.58736541 -0.87138956 -0.87689859]\n",
      " [ 0.21605563  0.16301321  0.02364703]\n",
      " [-0.87951851 -0.87138956 -0.42662578]\n",
      " ...\n",
      " [-0.87951851 -0.87138956 -0.42662578]\n",
      " [-0.87951851 -0.87138956 -0.35735304]\n",
      " [-0.87951851 -0.87138956 -0.11489845]]\n"
     ]
    }
   ],
   "source": [
    "#Scaling\n",
    "from sklearn.preprocessing import StandardScaler\n",
    "scale = StandardScaler()\n",
    "\n",
    "scaledX = scale.fit_transform(X)\n",
    "print(scaledX)"
   ]
  },
  {
   "cell_type": "markdown",
   "metadata": {},
   "source": [
    "# Normalising data"
   ]
  },
  {
   "cell_type": "code",
   "execution_count": 21,
   "metadata": {},
   "outputs": [
    {
     "data": {
      "text/html": [
       "<div>\n",
       "<style scoped>\n",
       "    .dataframe tbody tr th:only-of-type {\n",
       "        vertical-align: middle;\n",
       "    }\n",
       "\n",
       "    .dataframe tbody tr th {\n",
       "        vertical-align: top;\n",
       "    }\n",
       "\n",
       "    .dataframe thead th {\n",
       "        text-align: right;\n",
       "    }\n",
       "</style>\n",
       "<table border=\"1\" class=\"dataframe\">\n",
       "  <thead>\n",
       "    <tr style=\"text-align: right;\">\n",
       "      <th></th>\n",
       "      <th>Engine Size</th>\n",
       "      <th>Cylinders</th>\n",
       "      <th>Fuel Consumption</th>\n",
       "      <th>CO2 Emissions</th>\n",
       "    </tr>\n",
       "    <tr>\n",
       "      <th>Model Year</th>\n",
       "      <th></th>\n",
       "      <th></th>\n",
       "      <th></th>\n",
       "      <th></th>\n",
       "    </tr>\n",
       "  </thead>\n",
       "  <tbody>\n",
       "    <tr>\n",
       "      <th>2022</th>\n",
       "      <td>-0.587058</td>\n",
       "      <td>-0.870933</td>\n",
       "      <td>-0.876439</td>\n",
       "      <td>-0.927922</td>\n",
       "    </tr>\n",
       "    <tr>\n",
       "      <th>2022</th>\n",
       "      <td>0.215942</td>\n",
       "      <td>0.162928</td>\n",
       "      <td>0.023635</td>\n",
       "      <td>0.044597</td>\n",
       "    </tr>\n",
       "    <tr>\n",
       "      <th>2022</th>\n",
       "      <td>-0.879058</td>\n",
       "      <td>-0.870933</td>\n",
       "      <td>-0.426402</td>\n",
       "      <td>-0.433944</td>\n",
       "    </tr>\n",
       "    <tr>\n",
       "      <th>2022</th>\n",
       "      <td>-0.879058</td>\n",
       "      <td>-0.870933</td>\n",
       "      <td>-0.287929</td>\n",
       "      <td>-0.279576</td>\n",
       "    </tr>\n",
       "    <tr>\n",
       "      <th>2022</th>\n",
       "      <td>-0.879058</td>\n",
       "      <td>-0.870933</td>\n",
       "      <td>-0.461021</td>\n",
       "      <td>-0.464818</td>\n",
       "    </tr>\n",
       "  </tbody>\n",
       "</table>\n",
       "</div>"
      ],
      "text/plain": [
       "            Engine Size  Cylinders  Fuel Consumption  CO2 Emissions\n",
       "Model Year                                                         \n",
       "2022          -0.587058  -0.870933         -0.876439      -0.927922\n",
       "2022           0.215942   0.162928          0.023635       0.044597\n",
       "2022          -0.879058  -0.870933         -0.426402      -0.433944\n",
       "2022          -0.879058  -0.870933         -0.287929      -0.279576\n",
       "2022          -0.879058  -0.870933         -0.461021      -0.464818"
      ]
     },
     "execution_count": 21,
     "metadata": {},
     "output_type": "execute_result"
    }
   ],
   "source": [
    "#Normalising numeric data\n",
    "new_df = (df_attr - df_attr.mean()) / df_attr.std()\n",
    "new_df.head()"
   ]
  },
  {
   "cell_type": "markdown",
   "metadata": {},
   "source": [
    "After Feature Scaling and Normalising the data, we train the model similarly."
   ]
  },
  {
   "cell_type": "code",
   "execution_count": 22,
   "metadata": {},
   "outputs": [
    {
     "name": "stdout",
     "output_type": "stream",
     "text": [
      "Mean Squared Error: 0.06184336390802369\n",
      "R-squared: 0.9254188772982187\n",
      "Mean Absolute Error: 0.09973756620847467\n"
     ]
    }
   ],
   "source": [
    "# Feature matrix and target vector\n",
    "X_feature = new_df.drop('CO2 Emissions', axis=1)  # We assume 'CO2 Emissions' is the column we want to predict\n",
    "y_target = new_df['CO2 Emissions']\n",
    "\n",
    "from sklearn.model_selection import train_test_split\n",
    "\n",
    "# Split the dataset into training and testing sets\n",
    "# Use the same random seed for learning purposes to get the same result\n",
    "X_train, X_test, y_train, y_test = train_test_split(X_feature, y_target, test_size=0.3, random_state=42)\n",
    "\n",
    "# Initialize the multiple regression model\n",
    "multi_reg_model = LinearRegression()\n",
    "\n",
    "# Fit the model to the training data\n",
    "multi_reg_model.fit(X_train, y_train)\n",
    "\n",
    "# Predict the housing prices on the test set\n",
    "y_pred = multi_reg_model.predict(X_test)\n",
    "\n",
    "from sklearn.metrics import mean_squared_error, r2_score, mean_absolute_error\n",
    "# Calculate the performance metrics\n",
    "mse = mean_squared_error(y_test, y_pred)\n",
    "r2 = r2_score(y_test, y_pred)\n",
    "mae = mean_absolute_error(y_test, y_pred)\n",
    "\n",
    "print(f'Mean Squared Error: {mse}')\n",
    "print(f'R-squared: {r2}')\n",
    "print(f'Mean Absolute Error: {mae}')"
   ]
  },
  {
   "cell_type": "markdown",
   "metadata": {},
   "source": [
    "The MSE and MAE is small and R2 is close to 1."
   ]
  }
 ],
 "metadata": {
  "colab": {
   "provenance": []
  },
  "kernelspec": {
   "display_name": "Python 3 (ipykernel)",
   "language": "python",
   "name": "python3"
  },
  "language_info": {
   "codemirror_mode": {
    "name": "ipython",
    "version": 3
   },
   "file_extension": ".py",
   "mimetype": "text/x-python",
   "name": "python",
   "nbconvert_exporter": "python",
   "pygments_lexer": "ipython3",
   "version": "3.12.2"
  }
 },
 "nbformat": 4,
 "nbformat_minor": 4
}
