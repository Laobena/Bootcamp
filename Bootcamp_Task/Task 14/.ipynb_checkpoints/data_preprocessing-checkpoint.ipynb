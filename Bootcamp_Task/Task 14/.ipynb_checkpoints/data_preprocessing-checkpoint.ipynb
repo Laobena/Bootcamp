{
 "cells": [
  {
   "cell_type": "markdown",
   "metadata": {
    "id": "wWmFBD46S5h_"
   },
   "source": [
    "## Data Preprocessing Task\n",
    "\n",
    " In this task, we will work on handling missing data as well as data standardisation and normalisation. Data can have missing values for a number of reasons, such as observations that were not collected or data corruption. We will discuss some general considerations for missing data, discuss how pandas chooses to represent it, and demonstrate some built-in pandas tools for handling missing data in Python.\n"
   ]
  },
  {
   "cell_type": "code",
   "execution_count": 19,
   "metadata": {
    "id": "HAWxBtzoS5h1"
   },
   "outputs": [],
   "source": [
    "import pandas as pd\n",
    "import numpy as np\n",
    "\n",
    "# Scaling modules\n",
    "from mlxtend.preprocessing import minmax_scaling, standardize\n",
    "\n",
    "# Plotting modules\n",
    "import seaborn as sns\n",
    "import matplotlib.pyplot as plt\n",
    "\n",
    "# Ensures the same random data is used each time you execute the code\n",
    "np.random.seed(0)\n"
   ]
  },
  {
   "cell_type": "code",
   "execution_count": 8,
   "metadata": {
    "id": "btxBrfKC0Rp9"
   },
   "outputs": [
    {
     "name": "stderr",
     "output_type": "stream",
     "text": [
      "C:\\Users\\VJ_la\\AppData\\Local\\Temp\\ipykernel_11292\\4174550349.py:2: FutureWarning: The 'delim_whitespace' keyword in pd.read_csv is deprecated and will be removed in a future version. Use ``sep='\\s+'`` instead\n",
      "  df = pd.read_csv('balance_missing.txt', delim_whitespace=True)\n"
     ]
    }
   ],
   "source": [
    "# Read in data\n",
    "df = pd.read_csv('balance_missing.txt', delim_whitespace=True)"
   ]
  },
  {
   "cell_type": "markdown",
   "metadata": {
    "id": "y1KHwSe94XT-"
   },
   "source": [
    "## Working with missing data\n",
    "### Take a first look at the data\n",
    "This should always be the first step during any analysis. Depending on data sources, missing data are identified differently. Pandas identifies missing values as NaN. However, missing values can appear as a question mark (?) or a zero (0) or minus one (-1) or a blank. So it is important to view and understand your data before anything else.\n",
    "\n",
    "We are going to use the dataset `balance_missing.txt`. From the first five observations, we can see there are several missing values. They have been represented as NaN."
   ]
  },
  {
   "cell_type": "code",
   "execution_count": 9,
   "metadata": {
    "id": "D5BpTLq70Rp-",
    "outputId": "2dda7c66-748f-4176-d193-83db233bd3b4"
   },
   "outputs": [
    {
     "data": {
      "text/plain": [
       "(400, 11)"
      ]
     },
     "execution_count": 9,
     "metadata": {},
     "output_type": "execute_result"
    }
   ],
   "source": [
    "# Explore data\n",
    "df.shape"
   ]
  },
  {
   "cell_type": "code",
   "execution_count": 10,
   "metadata": {
    "id": "XG8G6QOo0RqA",
    "outputId": "e7c19456-0dd9-4aa2-9f53-a87a9a12f84b"
   },
   "outputs": [
    {
     "data": {
      "text/html": [
       "<div>\n",
       "<style scoped>\n",
       "    .dataframe tbody tr th:only-of-type {\n",
       "        vertical-align: middle;\n",
       "    }\n",
       "\n",
       "    .dataframe tbody tr th {\n",
       "        vertical-align: top;\n",
       "    }\n",
       "\n",
       "    .dataframe thead th {\n",
       "        text-align: right;\n",
       "    }\n",
       "</style>\n",
       "<table border=\"1\" class=\"dataframe\">\n",
       "  <thead>\n",
       "    <tr style=\"text-align: right;\">\n",
       "      <th></th>\n",
       "      <th>Balance</th>\n",
       "      <th>Income</th>\n",
       "      <th>Limit</th>\n",
       "      <th>Rating</th>\n",
       "      <th>Cards</th>\n",
       "      <th>Age</th>\n",
       "      <th>Education</th>\n",
       "      <th>Gender</th>\n",
       "      <th>Student</th>\n",
       "      <th>Married</th>\n",
       "      <th>Ethnicity</th>\n",
       "    </tr>\n",
       "  </thead>\n",
       "  <tbody>\n",
       "    <tr>\n",
       "      <th>0</th>\n",
       "      <td>12.2407984760474</td>\n",
       "      <td>14.891</td>\n",
       "      <td>3606</td>\n",
       "      <td>283.0</td>\n",
       "      <td>2.0</td>\n",
       "      <td>NaN</td>\n",
       "      <td>11.0</td>\n",
       "      <td>Male</td>\n",
       "      <td>No</td>\n",
       "      <td>Yes</td>\n",
       "      <td>Caucasian</td>\n",
       "    </tr>\n",
       "    <tr>\n",
       "      <th>1</th>\n",
       "      <td>23.2833339223376</td>\n",
       "      <td>NaN</td>\n",
       "      <td>6645</td>\n",
       "      <td>483.0</td>\n",
       "      <td>3.0</td>\n",
       "      <td>82.0</td>\n",
       "      <td>15.0</td>\n",
       "      <td>Female</td>\n",
       "      <td>NaN</td>\n",
       "      <td>Yes</td>\n",
       "      <td>Asian</td>\n",
       "    </tr>\n",
       "    <tr>\n",
       "      <th>2</th>\n",
       "      <td>22.5304088790893</td>\n",
       "      <td>104.593</td>\n",
       "      <td>7075</td>\n",
       "      <td>NaN</td>\n",
       "      <td>4.0</td>\n",
       "      <td>71.0</td>\n",
       "      <td>11.0</td>\n",
       "      <td>Male</td>\n",
       "      <td>No</td>\n",
       "      <td>No</td>\n",
       "      <td>Asian</td>\n",
       "    </tr>\n",
       "    <tr>\n",
       "      <th>3</th>\n",
       "      <td>27.652810710665</td>\n",
       "      <td>148.924</td>\n",
       "      <td>9504</td>\n",
       "      <td>681.0</td>\n",
       "      <td>3.0</td>\n",
       "      <td>36.0</td>\n",
       "      <td>11.0</td>\n",
       "      <td>NaN</td>\n",
       "      <td>No</td>\n",
       "      <td>No</td>\n",
       "      <td>Asian</td>\n",
       "    </tr>\n",
       "    <tr>\n",
       "      <th>4</th>\n",
       "      <td>16.8939784904888</td>\n",
       "      <td>55.882</td>\n",
       "      <td>4897</td>\n",
       "      <td>357.0</td>\n",
       "      <td>2.0</td>\n",
       "      <td>68.0</td>\n",
       "      <td>16.0</td>\n",
       "      <td>Male</td>\n",
       "      <td>No</td>\n",
       "      <td>Yes</td>\n",
       "      <td>Caucasian</td>\n",
       "    </tr>\n",
       "  </tbody>\n",
       "</table>\n",
       "</div>"
      ],
      "text/plain": [
       "            Balance   Income Limit  Rating  Cards   Age  Education  Gender  \\\n",
       "0  12.2407984760474   14.891  3606   283.0    2.0   NaN       11.0    Male   \n",
       "1  23.2833339223376      NaN  6645   483.0    3.0  82.0       15.0  Female   \n",
       "2  22.5304088790893  104.593  7075     NaN    4.0  71.0       11.0    Male   \n",
       "3   27.652810710665  148.924  9504   681.0    3.0  36.0       11.0     NaN   \n",
       "4  16.8939784904888   55.882  4897   357.0    2.0  68.0       16.0    Male   \n",
       "\n",
       "  Student Married  Ethnicity  \n",
       "0      No     Yes  Caucasian  \n",
       "1     NaN     Yes      Asian  \n",
       "2      No      No      Asian  \n",
       "3      No      No      Asian  \n",
       "4      No     Yes  Caucasian  "
      ]
     },
     "execution_count": 10,
     "metadata": {},
     "output_type": "execute_result"
    }
   ],
   "source": [
    "df.head()"
   ]
  },
  {
   "cell_type": "markdown",
   "metadata": {
    "id": "-2S5AjI5S5iI"
   },
   "source": [
    "How many NaN values can you point out?\n",
    "\n",
    "Now that we have seen that there are missing values, we need to get a sense of how many missing values exist in the whole dataset. We are going to find how many missing values we have in each column.\n"
   ]
  },
  {
   "cell_type": "code",
   "execution_count": 11,
   "metadata": {
    "id": "O2LlSluNS5iL",
    "outputId": "ace0cd28-aa52-4f2d-cf21-11e726e275e0"
   },
   "outputs": [
    {
     "data": {
      "text/plain": [
       "Balance       0\n",
       "Income        6\n",
       "Limit        15\n",
       "Rating       11\n",
       "Cards         1\n",
       "Age          10\n",
       "Education     6\n",
       "Gender        8\n",
       "Student       7\n",
       "Married       3\n",
       "dtype: int64"
      ]
     },
     "execution_count": 11,
     "metadata": {},
     "output_type": "execute_result"
    }
   ],
   "source": [
    "# Get the number of missing data values per column\n",
    "missing_values_count = df.isnull().sum()\n",
    "\n",
    "# Look at the number of missing values in the first ten columns\n",
    "missing_values_count[0:10]"
   ]
  },
  {
   "cell_type": "markdown",
   "metadata": {
    "id": "q2TWaWbbS5iO"
   },
   "source": [
    "To better understand how much data is missing, we can calculate the percentage of all the missing values. If we get a very high percentage, we may be unable to use the data.\n"
   ]
  },
  {
   "cell_type": "code",
   "execution_count": 12,
   "metadata": {
    "id": "zvIlLTN9S5iP",
    "outputId": "0da32cb3-6354-42e5-91ad-9f96a7a75867"
   },
   "outputs": [
    {
     "data": {
      "text/plain": [
       "1.7727272727272727"
      ]
     },
     "execution_count": 12,
     "metadata": {},
     "output_type": "execute_result"
    }
   ],
   "source": [
    "# Total number of missing values\n",
    "total_cells = np.product(df.shape)\n",
    "total_missing = missing_values_count.sum()\n",
    "\n",
    "# Percent of data that is missing\n",
    "(total_missing/total_cells) * 100\n"
   ]
  },
  {
   "cell_type": "markdown",
   "metadata": {
    "id": "cIDPTi5uS5iR"
   },
   "source": [
    "Only 1.77% of the values are missing.\n",
    "\n",
    "### Drop missing values\n",
    "\n",
    "One option to deal with missing values is to remove any rows or columns that contain missing values. This strategy is not recommended for datasets with important data, sensitive data, or few observations. It's usually worth taking the time to go through your data and interrogate all the columns with missing values to get a proper understanding of your dataset.\n",
    "\n",
    "If you're sure you want to drop rows with missing values, pandas has a handy function, `dropna()` to do this. Let's try it out on our data."
   ]
  },
  {
   "cell_type": "code",
   "execution_count": 13,
   "metadata": {
    "id": "EDOexSCHS5iS",
    "outputId": "ba4fabfa-c2a5-4452-97f3-9f1a8231f28c"
   },
   "outputs": [
    {
     "data": {
      "text/html": [
       "<div>\n",
       "<style scoped>\n",
       "    .dataframe tbody tr th:only-of-type {\n",
       "        vertical-align: middle;\n",
       "    }\n",
       "\n",
       "    .dataframe tbody tr th {\n",
       "        vertical-align: top;\n",
       "    }\n",
       "\n",
       "    .dataframe thead th {\n",
       "        text-align: right;\n",
       "    }\n",
       "</style>\n",
       "<table border=\"1\" class=\"dataframe\">\n",
       "  <thead>\n",
       "    <tr style=\"text-align: right;\">\n",
       "      <th></th>\n",
       "      <th>Balance</th>\n",
       "      <th>Income</th>\n",
       "      <th>Limit</th>\n",
       "      <th>Rating</th>\n",
       "      <th>Cards</th>\n",
       "      <th>Age</th>\n",
       "      <th>Education</th>\n",
       "      <th>Gender</th>\n",
       "      <th>Student</th>\n",
       "      <th>Married</th>\n",
       "      <th>Ethnicity</th>\n",
       "    </tr>\n",
       "  </thead>\n",
       "  <tbody>\n",
       "    <tr>\n",
       "      <th>4</th>\n",
       "      <td>16.8939784904888</td>\n",
       "      <td>55.882</td>\n",
       "      <td>4897</td>\n",
       "      <td>357.0</td>\n",
       "      <td>2.0</td>\n",
       "      <td>68.0</td>\n",
       "      <td>16.0</td>\n",
       "      <td>Male</td>\n",
       "      <td>No</td>\n",
       "      <td>Yes</td>\n",
       "      <td>Caucasian</td>\n",
       "    </tr>\n",
       "    <tr>\n",
       "      <th>5</th>\n",
       "      <td>22.4861776123913</td>\n",
       "      <td>80.18</td>\n",
       "      <td>8047</td>\n",
       "      <td>569.0</td>\n",
       "      <td>4.0</td>\n",
       "      <td>77.0</td>\n",
       "      <td>10.0</td>\n",
       "      <td>Male</td>\n",
       "      <td>No</td>\n",
       "      <td>No</td>\n",
       "      <td>Caucasian</td>\n",
       "    </tr>\n",
       "    <tr>\n",
       "      <th>6</th>\n",
       "      <td>10.5745164367595</td>\n",
       "      <td>20.996</td>\n",
       "      <td>3388</td>\n",
       "      <td>259.0</td>\n",
       "      <td>2.0</td>\n",
       "      <td>37.0</td>\n",
       "      <td>12.0</td>\n",
       "      <td>Female</td>\n",
       "      <td>No</td>\n",
       "      <td>No</td>\n",
       "      <td>African American</td>\n",
       "    </tr>\n",
       "    <tr>\n",
       "      <th>7</th>\n",
       "      <td>14.5762043512884</td>\n",
       "      <td>71.408</td>\n",
       "      <td>7114</td>\n",
       "      <td>512.0</td>\n",
       "      <td>2.0</td>\n",
       "      <td>87.0</td>\n",
       "      <td>9.0</td>\n",
       "      <td>Male</td>\n",
       "      <td>No</td>\n",
       "      <td>No</td>\n",
       "      <td>Asian</td>\n",
       "    </tr>\n",
       "    <tr>\n",
       "      <th>8</th>\n",
       "      <td>7.93809029500252</td>\n",
       "      <td>15.125</td>\n",
       "      <td>3300</td>\n",
       "      <td>266.0</td>\n",
       "      <td>5.0</td>\n",
       "      <td>66.0</td>\n",
       "      <td>13.0</td>\n",
       "      <td>Female</td>\n",
       "      <td>No</td>\n",
       "      <td>No</td>\n",
       "      <td>Caucasian</td>\n",
       "    </tr>\n",
       "  </tbody>\n",
       "</table>\n",
       "</div>"
      ],
      "text/plain": [
       "            Balance  Income Limit  Rating  Cards   Age  Education  Gender  \\\n",
       "4  16.8939784904888  55.882  4897   357.0    2.0  68.0       16.0    Male   \n",
       "5  22.4861776123913   80.18  8047   569.0    4.0  77.0       10.0    Male   \n",
       "6  10.5745164367595  20.996  3388   259.0    2.0  37.0       12.0  Female   \n",
       "7  14.5762043512884  71.408  7114   512.0    2.0  87.0        9.0    Male   \n",
       "8  7.93809029500252  15.125  3300   266.0    5.0  66.0       13.0  Female   \n",
       "\n",
       "  Student Married         Ethnicity  \n",
       "4      No     Yes         Caucasian  \n",
       "5      No      No         Caucasian  \n",
       "6      No      No  African American  \n",
       "7      No      No             Asian  \n",
       "8      No      No         Caucasian  "
      ]
     },
     "execution_count": 13,
     "metadata": {},
     "output_type": "execute_result"
    }
   ],
   "source": [
    "# Create a temporary dataframe\n",
    "temp_df = df\n",
    "\n",
    "# Remove all the rows that contain a missing value.\n",
    "temp_df.dropna().head()"
   ]
  },
  {
   "cell_type": "markdown",
   "metadata": {
    "id": "WK_poFuQS5iT"
   },
   "source": [
    "As you can see, there are no longer NaN values in the first five observations as these have been dropped from the DataFrame. In fact, all observations with a NaN value in any of the columns have been dropped. Below you can see the number of rows has been reduced to 331 compared to 400 in the original dataset."
   ]
  },
  {
   "cell_type": "code",
   "execution_count": 14,
   "metadata": {
    "id": "AYcCicyw0RqH",
    "outputId": "b5fd769b-6e90-4de2-fd91-611cd5ad3f07"
   },
   "outputs": [
    {
     "data": {
      "text/plain": [
       "(331, 11)"
      ]
     },
     "execution_count": 14,
     "metadata": {},
     "output_type": "execute_result"
    }
   ],
   "source": [
    "temp_df.dropna().shape"
   ]
  },
  {
   "cell_type": "markdown",
   "metadata": {
    "id": "5G2aTx2e0RqI"
   },
   "source": [
    "The above procedure removed observations. Now let us look at removing columns."
   ]
  },
  {
   "cell_type": "code",
   "execution_count": 15,
   "metadata": {
    "id": "Sdg-iRJJS5iV",
    "outputId": "be354658-67b3-4e87-dbb9-ebf887ef79f4"
   },
   "outputs": [
    {
     "data": {
      "text/html": [
       "<div>\n",
       "<style scoped>\n",
       "    .dataframe tbody tr th:only-of-type {\n",
       "        vertical-align: middle;\n",
       "    }\n",
       "\n",
       "    .dataframe tbody tr th {\n",
       "        vertical-align: top;\n",
       "    }\n",
       "\n",
       "    .dataframe thead th {\n",
       "        text-align: right;\n",
       "    }\n",
       "</style>\n",
       "<table border=\"1\" class=\"dataframe\">\n",
       "  <thead>\n",
       "    <tr style=\"text-align: right;\">\n",
       "      <th></th>\n",
       "      <th>Balance</th>\n",
       "    </tr>\n",
       "  </thead>\n",
       "  <tbody>\n",
       "    <tr>\n",
       "      <th>0</th>\n",
       "      <td>12.2407984760474</td>\n",
       "    </tr>\n",
       "    <tr>\n",
       "      <th>1</th>\n",
       "      <td>23.2833339223376</td>\n",
       "    </tr>\n",
       "    <tr>\n",
       "      <th>2</th>\n",
       "      <td>22.5304088790893</td>\n",
       "    </tr>\n",
       "    <tr>\n",
       "      <th>3</th>\n",
       "      <td>27.652810710665</td>\n",
       "    </tr>\n",
       "    <tr>\n",
       "      <th>4</th>\n",
       "      <td>16.8939784904888</td>\n",
       "    </tr>\n",
       "  </tbody>\n",
       "</table>\n",
       "</div>"
      ],
      "text/plain": [
       "            Balance\n",
       "0  12.2407984760474\n",
       "1  23.2833339223376\n",
       "2  22.5304088790893\n",
       "3   27.652810710665\n",
       "4  16.8939784904888"
      ]
     },
     "execution_count": 15,
     "metadata": {},
     "output_type": "execute_result"
    }
   ],
   "source": [
    "# Create a temporary dataframe\n",
    "temp_df = df\n",
    "\n",
    "# Remove all columns with at least one missing value\n",
    "columns_with_na_dropped = temp_df.dropna(axis=1)\n",
    "columns_with_na_dropped.head()"
   ]
  },
  {
   "cell_type": "markdown",
   "metadata": {
    "id": "dZgpkni9S5iX"
   },
   "source": [
    "Looks like all the columns had at least one missing value except the \"Balance\" column. Losing all columns but one reduces the amount of data you have drastically. This is one of the reasons why removing observations or columns with missing data may not be a good solution. We'll explore other options next."
   ]
  },
  {
   "cell_type": "markdown",
   "metadata": {
    "id": "lz4q1-x3S5iY"
   },
   "source": [
    "### Filling in missing values automatically\n",
    "\n",
    "We can use the pandas `fillna()` function to fill in missing values in a dataframe. One option is to specify what we want the NaN values to be replaced with. Here, we can replace all NaN with 0."
   ]
  },
  {
   "cell_type": "code",
   "execution_count": 16,
   "metadata": {
    "id": "ggkh0Kk1S5iZ",
    "outputId": "9cfd5e94-9069-4154-de91-77cfeefbfad2"
   },
   "outputs": [
    {
     "data": {
      "text/html": [
       "<div>\n",
       "<style scoped>\n",
       "    .dataframe tbody tr th:only-of-type {\n",
       "        vertical-align: middle;\n",
       "    }\n",
       "\n",
       "    .dataframe tbody tr th {\n",
       "        vertical-align: top;\n",
       "    }\n",
       "\n",
       "    .dataframe thead th {\n",
       "        text-align: right;\n",
       "    }\n",
       "</style>\n",
       "<table border=\"1\" class=\"dataframe\">\n",
       "  <thead>\n",
       "    <tr style=\"text-align: right;\">\n",
       "      <th></th>\n",
       "      <th>Balance</th>\n",
       "      <th>Income</th>\n",
       "      <th>Limit</th>\n",
       "      <th>Rating</th>\n",
       "      <th>Cards</th>\n",
       "      <th>Age</th>\n",
       "      <th>Education</th>\n",
       "      <th>Gender</th>\n",
       "      <th>Student</th>\n",
       "      <th>Married</th>\n",
       "      <th>Ethnicity</th>\n",
       "    </tr>\n",
       "  </thead>\n",
       "  <tbody>\n",
       "    <tr>\n",
       "      <th>0</th>\n",
       "      <td>12.2407984760474</td>\n",
       "      <td>14.891</td>\n",
       "      <td>3606</td>\n",
       "      <td>283.0</td>\n",
       "      <td>2.0</td>\n",
       "      <td>0.0</td>\n",
       "      <td>11.0</td>\n",
       "      <td>Male</td>\n",
       "      <td>No</td>\n",
       "      <td>Yes</td>\n",
       "      <td>Caucasian</td>\n",
       "    </tr>\n",
       "    <tr>\n",
       "      <th>1</th>\n",
       "      <td>23.2833339223376</td>\n",
       "      <td>0</td>\n",
       "      <td>6645</td>\n",
       "      <td>483.0</td>\n",
       "      <td>3.0</td>\n",
       "      <td>82.0</td>\n",
       "      <td>15.0</td>\n",
       "      <td>Female</td>\n",
       "      <td>0</td>\n",
       "      <td>Yes</td>\n",
       "      <td>Asian</td>\n",
       "    </tr>\n",
       "    <tr>\n",
       "      <th>2</th>\n",
       "      <td>22.5304088790893</td>\n",
       "      <td>104.593</td>\n",
       "      <td>7075</td>\n",
       "      <td>0.0</td>\n",
       "      <td>4.0</td>\n",
       "      <td>71.0</td>\n",
       "      <td>11.0</td>\n",
       "      <td>Male</td>\n",
       "      <td>No</td>\n",
       "      <td>No</td>\n",
       "      <td>Asian</td>\n",
       "    </tr>\n",
       "    <tr>\n",
       "      <th>3</th>\n",
       "      <td>27.652810710665</td>\n",
       "      <td>148.924</td>\n",
       "      <td>9504</td>\n",
       "      <td>681.0</td>\n",
       "      <td>3.0</td>\n",
       "      <td>36.0</td>\n",
       "      <td>11.0</td>\n",
       "      <td>0</td>\n",
       "      <td>No</td>\n",
       "      <td>No</td>\n",
       "      <td>Asian</td>\n",
       "    </tr>\n",
       "    <tr>\n",
       "      <th>4</th>\n",
       "      <td>16.8939784904888</td>\n",
       "      <td>55.882</td>\n",
       "      <td>4897</td>\n",
       "      <td>357.0</td>\n",
       "      <td>2.0</td>\n",
       "      <td>68.0</td>\n",
       "      <td>16.0</td>\n",
       "      <td>Male</td>\n",
       "      <td>No</td>\n",
       "      <td>Yes</td>\n",
       "      <td>Caucasian</td>\n",
       "    </tr>\n",
       "  </tbody>\n",
       "</table>\n",
       "</div>"
      ],
      "text/plain": [
       "            Balance   Income Limit  Rating  Cards   Age  Education  Gender  \\\n",
       "0  12.2407984760474   14.891  3606   283.0    2.0   0.0       11.0    Male   \n",
       "1  23.2833339223376        0  6645   483.0    3.0  82.0       15.0  Female   \n",
       "2  22.5304088790893  104.593  7075     0.0    4.0  71.0       11.0    Male   \n",
       "3   27.652810710665  148.924  9504   681.0    3.0  36.0       11.0       0   \n",
       "4  16.8939784904888   55.882  4897   357.0    2.0  68.0       16.0    Male   \n",
       "\n",
       "  Student Married  Ethnicity  \n",
       "0      No     Yes  Caucasian  \n",
       "1       0     Yes      Asian  \n",
       "2      No      No      Asian  \n",
       "3      No      No      Asian  \n",
       "4      No     Yes  Caucasian  "
      ]
     },
     "execution_count": 16,
     "metadata": {},
     "output_type": "execute_result"
    }
   ],
   "source": [
    "# Create a temporary dataframe\n",
    "temp_df = df\n",
    "\n",
    "# replace all NA's with 0\n",
    "temp_df.fillna(0).head()"
   ]
  },
  {
   "cell_type": "markdown",
   "metadata": {
    "id": "TTm8DwAzS5ic"
   },
   "source": [
    "Another option is to replace the missing values with the values that come just before or just after it in the same column. This can be used in datasets where the observations are in some sorted or logical order."
   ]
  },
  {
   "cell_type": "code",
   "execution_count": 17,
   "metadata": {
    "id": "swR7FThkS5ie",
    "outputId": "7b9724ea-9722-4ffd-beab-a238e22e8a22"
   },
   "outputs": [
    {
     "name": "stderr",
     "output_type": "stream",
     "text": [
      "C:\\Users\\VJ_la\\AppData\\Local\\Temp\\ipykernel_11292\\855990589.py:6: FutureWarning: DataFrame.fillna with 'method' is deprecated and will raise in a future version. Use obj.ffill() or obj.bfill() instead.\n",
      "  temp_df.fillna(method = 'bfill', axis=0).fillna(0).head()\n"
     ]
    },
    {
     "data": {
      "text/html": [
       "<div>\n",
       "<style scoped>\n",
       "    .dataframe tbody tr th:only-of-type {\n",
       "        vertical-align: middle;\n",
       "    }\n",
       "\n",
       "    .dataframe tbody tr th {\n",
       "        vertical-align: top;\n",
       "    }\n",
       "\n",
       "    .dataframe thead th {\n",
       "        text-align: right;\n",
       "    }\n",
       "</style>\n",
       "<table border=\"1\" class=\"dataframe\">\n",
       "  <thead>\n",
       "    <tr style=\"text-align: right;\">\n",
       "      <th></th>\n",
       "      <th>Balance</th>\n",
       "      <th>Income</th>\n",
       "      <th>Limit</th>\n",
       "      <th>Rating</th>\n",
       "      <th>Cards</th>\n",
       "      <th>Age</th>\n",
       "      <th>Education</th>\n",
       "      <th>Gender</th>\n",
       "      <th>Student</th>\n",
       "      <th>Married</th>\n",
       "      <th>Ethnicity</th>\n",
       "    </tr>\n",
       "  </thead>\n",
       "  <tbody>\n",
       "    <tr>\n",
       "      <th>0</th>\n",
       "      <td>12.2407984760474</td>\n",
       "      <td>14.891</td>\n",
       "      <td>3606</td>\n",
       "      <td>283.0</td>\n",
       "      <td>2.0</td>\n",
       "      <td>82.0</td>\n",
       "      <td>11.0</td>\n",
       "      <td>Male</td>\n",
       "      <td>No</td>\n",
       "      <td>Yes</td>\n",
       "      <td>Caucasian</td>\n",
       "    </tr>\n",
       "    <tr>\n",
       "      <th>1</th>\n",
       "      <td>23.2833339223376</td>\n",
       "      <td>104.593</td>\n",
       "      <td>6645</td>\n",
       "      <td>483.0</td>\n",
       "      <td>3.0</td>\n",
       "      <td>82.0</td>\n",
       "      <td>15.0</td>\n",
       "      <td>Female</td>\n",
       "      <td>No</td>\n",
       "      <td>Yes</td>\n",
       "      <td>Asian</td>\n",
       "    </tr>\n",
       "    <tr>\n",
       "      <th>2</th>\n",
       "      <td>22.5304088790893</td>\n",
       "      <td>104.593</td>\n",
       "      <td>7075</td>\n",
       "      <td>681.0</td>\n",
       "      <td>4.0</td>\n",
       "      <td>71.0</td>\n",
       "      <td>11.0</td>\n",
       "      <td>Male</td>\n",
       "      <td>No</td>\n",
       "      <td>No</td>\n",
       "      <td>Asian</td>\n",
       "    </tr>\n",
       "    <tr>\n",
       "      <th>3</th>\n",
       "      <td>27.652810710665</td>\n",
       "      <td>148.924</td>\n",
       "      <td>9504</td>\n",
       "      <td>681.0</td>\n",
       "      <td>3.0</td>\n",
       "      <td>36.0</td>\n",
       "      <td>11.0</td>\n",
       "      <td>Male</td>\n",
       "      <td>No</td>\n",
       "      <td>No</td>\n",
       "      <td>Asian</td>\n",
       "    </tr>\n",
       "    <tr>\n",
       "      <th>4</th>\n",
       "      <td>16.8939784904888</td>\n",
       "      <td>55.882</td>\n",
       "      <td>4897</td>\n",
       "      <td>357.0</td>\n",
       "      <td>2.0</td>\n",
       "      <td>68.0</td>\n",
       "      <td>16.0</td>\n",
       "      <td>Male</td>\n",
       "      <td>No</td>\n",
       "      <td>Yes</td>\n",
       "      <td>Caucasian</td>\n",
       "    </tr>\n",
       "  </tbody>\n",
       "</table>\n",
       "</div>"
      ],
      "text/plain": [
       "            Balance   Income Limit  Rating  Cards   Age  Education  Gender  \\\n",
       "0  12.2407984760474   14.891  3606   283.0    2.0  82.0       11.0    Male   \n",
       "1  23.2833339223376  104.593  6645   483.0    3.0  82.0       15.0  Female   \n",
       "2  22.5304088790893  104.593  7075   681.0    4.0  71.0       11.0    Male   \n",
       "3   27.652810710665  148.924  9504   681.0    3.0  36.0       11.0    Male   \n",
       "4  16.8939784904888   55.882  4897   357.0    2.0  68.0       16.0    Male   \n",
       "\n",
       "  Student Married  Ethnicity  \n",
       "0      No     Yes  Caucasian  \n",
       "1      No     Yes      Asian  \n",
       "2      No      No      Asian  \n",
       "3      No      No      Asian  \n",
       "4      No     Yes  Caucasian  "
      ]
     },
     "execution_count": 17,
     "metadata": {},
     "output_type": "execute_result"
    }
   ],
   "source": [
    "# Create a temporary dataframe\n",
    "temp_df = df\n",
    "\n",
    "# Replace all NaN's with the value that comes directly after it in the same column,\n",
    "# then replace all the remaining NaN's with 0\n",
    "temp_df.fillna(method = 'bfill', axis=0).fillna(0).head()"
   ]
  },
  {
   "cell_type": "markdown",
   "metadata": {
    "id": "rH7VLp2Yiru6"
   },
   "source": [
    "### Feature Scaling Recap\n",
    "Recall feature scaling is the process of restricting the values in a particular feature to ensure that all features lie on the same scale. There are two main types of feature scaling: standardisation and normalisation.\n",
    "\n",
    "#### Standardisation vs. Normalisation: What's the difference?\n",
    "One of the reasons that it's easy to get confused between standardisation and normalisation is because the terms are sometimes used interchangeably and, to make it even more confusing, they are very similar! In both cases, you're transforming the values of numeric variables so that the transformed data points have specific helpful properties. The difference is that, in standardisation, you're changing the range of your data to have a mean of 0 and a standard deviation of 1, while in normalisation you're changing the range of your data to have a maximum of 1 and a minimum of 0."
   ]
  },
  {
   "cell_type": "markdown",
   "metadata": {
    "id": "DYvc-vLM0RqL"
   },
   "source": [
    "#### Standarisation example"
   ]
  },
  {
   "cell_type": "code",
   "execution_count": null,
   "metadata": {
    "id": "mdwz053K0RqN",
    "outputId": "053b9bfd-7069-437f-ef7f-6554757d2c43"
   },
   "outputs": [
    {
     "data": {
      "text/plain": [
       "Text(0.5, 1.0, 'Scaled data')"
      ]
     },
     "execution_count": 163,
     "metadata": {},
     "output_type": "execute_result"
    },
    {
     "data": {
      "image/png": "[encoded data removed]",
      "text/plain": [
       "<Figure size 640x480 with 2 Axes>"
      ]
     },
     "metadata": {},
     "output_type": "display_data"
    }
   ],
   "source": [
    "# Generate 1000 data points randomly drawn from an normal distribution\n",
    "original_data = np.random.normal(loc=10, scale=5, size = 1000)\n",
    "\n",
    "# Use minmax to standardise the data\n",
    "scaled_data = standardize(original_data, columns = [0])\n",
    "\n",
    "# Plot the orginal and scaled data to compare\n",
    "fig, ax=plt.subplots(1,2)\n",
    "sns.histplot(original_data, ax=ax[0],kde=True)\n",
    "ax[0].set_title(\"Original Data\")\n",
    "sns.histplot(scaled_data, ax=ax[1],kde=True)\n",
    "ax[1].set_title(\"Scaled data\")"
   ]
  },
  {
   "cell_type": "markdown",
   "metadata": {
    "id": "UN3tFUD80RqO"
   },
   "source": [
    "Notice that the standardised data has a mean of 0."
   ]
  },
  {
   "cell_type": "markdown",
   "metadata": {
    "id": "iylvbYk70RqO"
   },
   "source": [
    "#### Normalisation example"
   ]
  },
  {
   "cell_type": "code",
   "execution_count": 20,
   "metadata": {
    "id": "qySQ1op2S5ig",
    "outputId": "68907147-de88-4fe6-9f88-3c2647945326"
   },
   "outputs": [
    {
     "data": {
      "text/plain": [
       "Text(0.5, 1.0, 'Scaled data')"
      ]
     },
     "execution_count": 20,
     "metadata": {},
     "output_type": "execute_result"
    },
    {
     "data": {
      "image/png": "[encoded data removed]",
      "text/plain": [
       "<Figure size 640x480 with 2 Axes>"
      ]
     },
     "metadata": {},
     "output_type": "display_data"
    }
   ],
   "source": [
    "# Generate 1000 data points randomly drawn from an exponential distribution\n",
    "original_data = np.random.exponential(size = 1000)\n",
    "\n",
    "# Use minmax to normalise the data\n",
    "scaled_data = minmax_scaling(original_data, columns = [0])\n",
    "\n",
    "# Plot the orginal and scaled data to compare\n",
    "fig, ax=plt.subplots(1,2)\n",
    "sns.histplot(original_data, ax=ax[0],kde=True)\n",
    "ax[0].set_title(\"Original Data\")\n",
    "sns.histplot(scaled_data, ax=ax[1],kde=True)\n",
    "ax[1].set_title(\"Scaled data\")"
   ]
  },
  {
   "cell_type": "markdown",
   "metadata": {
    "id": "oaYCOXdsS5ih"
   },
   "source": [
    "Notice that, instead of ranging from 0 to ~8, it now ranges from 0 to 1."
   ]
  },
  {
   "cell_type": "markdown",
   "metadata": {
    "id": "dYmhDLat0RqP"
   },
   "source": [
    "## Practice  \n",
    "\n",
    "Practice handing missing data with the \"countries.csv\" dataset which is derived from some World Bank data. Each column is a type of indicator for example EN.ATM.CO2E.PC is carbon dioxide emissions in metric tons per capita. These indicators are recorded for participating countries."
   ]
  },
  {
   "cell_type": "code",
   "execution_count": 19,
   "metadata": {
    "id": "qqrd_beqS5ii",
    "outputId": "19be0b4f-9976-4ef6-a5f8-9f2620dfc489"
   },
   "outputs": [
    {
     "data": {
      "text/html": [
       "<div>\n",
       "<style scoped>\n",
       "    .dataframe tbody tr th:only-of-type {\n",
       "        vertical-align: middle;\n",
       "    }\n",
       "\n",
       "    .dataframe tbody tr th {\n",
       "        vertical-align: top;\n",
       "    }\n",
       "\n",
       "    .dataframe thead th {\n",
       "        text-align: right;\n",
       "    }\n",
       "</style>\n",
       "<table border=\"1\" class=\"dataframe\">\n",
       "  <thead>\n",
       "    <tr style=\"text-align: right;\">\n",
       "      <th></th>\n",
       "      <th>Country</th>\n",
       "      <th>Country Groups</th>\n",
       "      <th>BX.KLT.DINV.WD.GD.ZS</th>\n",
       "      <th>EG.ELC.ACCS.ZS</th>\n",
       "      <th>EG.FEC.RNEW.ZS</th>\n",
       "      <th>EN.ATM.CO2E.PC</th>\n",
       "      <th>FP.CPI.TOTL.ZG</th>\n",
       "      <th>IT.CEL.SETS.P2</th>\n",
       "      <th>IT.NET.USER.ZS</th>\n",
       "      <th>NE.EXP.GNFS.ZS</th>\n",
       "      <th>...</th>\n",
       "      <th>NY.GDP.PCAP.CD</th>\n",
       "      <th>SP.DYN.AMRT.FE</th>\n",
       "      <th>SP.DYN.AMRT.MA</th>\n",
       "      <th>SP.DYN.CBRT.IN</th>\n",
       "      <th>SP.DYN.CDRT.IN</th>\n",
       "      <th>SP.DYN.IMRT.IN</th>\n",
       "      <th>SP.DYN.LE00.IN</th>\n",
       "      <th>SP.DYN.TFRT.IN</th>\n",
       "      <th>SP.POP.GROW</th>\n",
       "      <th>SP.URB.TOTL.IN.ZS</th>\n",
       "    </tr>\n",
       "  </thead>\n",
       "  <tbody>\n",
       "    <tr>\n",
       "      <th>0</th>\n",
       "      <td>CEB</td>\n",
       "      <td>Central Europe and the Baltics</td>\n",
       "      <td>1.555790</td>\n",
       "      <td>100.000000</td>\n",
       "      <td>14.538355</td>\n",
       "      <td>6.820042</td>\n",
       "      <td>1.840965</td>\n",
       "      <td>122.192106</td>\n",
       "      <td>58.599297</td>\n",
       "      <td>52.333390</td>\n",
       "      <td>...</td>\n",
       "      <td>12567.128310</td>\n",
       "      <td>77.039930</td>\n",
       "      <td>189.578062</td>\n",
       "      <td>10.543330</td>\n",
       "      <td>11.429917</td>\n",
       "      <td>6.019183</td>\n",
       "      <td>75.295349</td>\n",
       "      <td>1.465325</td>\n",
       "      <td>-0.362710</td>\n",
       "      <td>62.059417</td>\n",
       "    </tr>\n",
       "    <tr>\n",
       "      <th>1</th>\n",
       "      <td>CSS</td>\n",
       "      <td>Caribbean small states</td>\n",
       "      <td>4.658176</td>\n",
       "      <td>93.114511</td>\n",
       "      <td>9.096342</td>\n",
       "      <td>9.277109</td>\n",
       "      <td>3.250344</td>\n",
       "      <td>113.628492</td>\n",
       "      <td>35.407690</td>\n",
       "      <td>44.935642</td>\n",
       "      <td>...</td>\n",
       "      <td>8726.326154</td>\n",
       "      <td>121.928584</td>\n",
       "      <td>200.568068</td>\n",
       "      <td>17.555646</td>\n",
       "      <td>7.436407</td>\n",
       "      <td>18.406085</td>\n",
       "      <td>72.252392</td>\n",
       "      <td>2.151960</td>\n",
       "      <td>0.642147</td>\n",
       "      <td>42.083135</td>\n",
       "    </tr>\n",
       "    <tr>\n",
       "      <th>2</th>\n",
       "      <td>EAP</td>\n",
       "      <td>East Asia &amp; Pacific (excluding high income)</td>\n",
       "      <td>3.796483</td>\n",
       "      <td>94.997330</td>\n",
       "      <td>16.471817</td>\n",
       "      <td>5.106045</td>\n",
       "      <td>3.789836</td>\n",
       "      <td>69.905604</td>\n",
       "      <td>28.957482</td>\n",
       "      <td>30.572597</td>\n",
       "      <td>...</td>\n",
       "      <td>4007.323783</td>\n",
       "      <td>91.717833</td>\n",
       "      <td>134.835195</td>\n",
       "      <td>14.439063</td>\n",
       "      <td>7.019396</td>\n",
       "      <td>19.100000</td>\n",
       "      <td>73.482345</td>\n",
       "      <td>1.843869</td>\n",
       "      <td>0.713160</td>\n",
       "      <td>47.696831</td>\n",
       "    </tr>\n",
       "    <tr>\n",
       "      <th>3</th>\n",
       "      <td>EAR</td>\n",
       "      <td>Early-demographic dividend</td>\n",
       "      <td>2.073571</td>\n",
       "      <td>79.455104</td>\n",
       "      <td>26.481427</td>\n",
       "      <td>2.119827</td>\n",
       "      <td>4.580200</td>\n",
       "      <td>68.069446</td>\n",
       "      <td>12.835425</td>\n",
       "      <td>27.711023</td>\n",
       "      <td>...</td>\n",
       "      <td>2926.483907</td>\n",
       "      <td>150.595639</td>\n",
       "      <td>214.978616</td>\n",
       "      <td>22.914627</td>\n",
       "      <td>7.028941</td>\n",
       "      <td>40.042149</td>\n",
       "      <td>67.955732</td>\n",
       "      <td>2.763140</td>\n",
       "      <td>1.534541</td>\n",
       "      <td>42.113134</td>\n",
       "    </tr>\n",
       "    <tr>\n",
       "      <th>4</th>\n",
       "      <td>EAS</td>\n",
       "      <td>East Asia &amp; Pacific</td>\n",
       "      <td>2.930966</td>\n",
       "      <td>95.496185</td>\n",
       "      <td>13.729447</td>\n",
       "      <td>5.701783</td>\n",
       "      <td>3.247588</td>\n",
       "      <td>73.657018</td>\n",
       "      <td>34.269800</td>\n",
       "      <td>32.153225</td>\n",
       "      <td>...</td>\n",
       "      <td>7674.475705</td>\n",
       "      <td>86.702958</td>\n",
       "      <td>130.465277</td>\n",
       "      <td>13.880915</td>\n",
       "      <td>7.095146</td>\n",
       "      <td>18.136433</td>\n",
       "      <td>74.383915</td>\n",
       "      <td>1.797065</td>\n",
       "      <td>0.675231</td>\n",
       "      <td>51.791229</td>\n",
       "    </tr>\n",
       "  </tbody>\n",
       "</table>\n",
       "<p>5 rows × 21 columns</p>\n",
       "</div>"
      ],
      "text/plain": [
       "  Country                               Country Groups  BX.KLT.DINV.WD.GD.ZS  \\\n",
       "0     CEB               Central Europe and the Baltics              1.555790   \n",
       "1     CSS                       Caribbean small states              4.658176   \n",
       "2     EAP  East Asia & Pacific (excluding high income)              3.796483   \n",
       "3     EAR                   Early-demographic dividend              2.073571   \n",
       "4     EAS                          East Asia & Pacific              2.930966   \n",
       "\n",
       "   EG.ELC.ACCS.ZS  EG.FEC.RNEW.ZS  EN.ATM.CO2E.PC  FP.CPI.TOTL.ZG  \\\n",
       "0      100.000000       14.538355        6.820042        1.840965   \n",
       "1       93.114511        9.096342        9.277109        3.250344   \n",
       "2       94.997330       16.471817        5.106045        3.789836   \n",
       "3       79.455104       26.481427        2.119827        4.580200   \n",
       "4       95.496185       13.729447        5.701783        3.247588   \n",
       "\n",
       "   IT.CEL.SETS.P2  IT.NET.USER.ZS  NE.EXP.GNFS.ZS  ...  NY.GDP.PCAP.CD  \\\n",
       "0      122.192106       58.599297       52.333390  ...    12567.128310   \n",
       "1      113.628492       35.407690       44.935642  ...     8726.326154   \n",
       "2       69.905604       28.957482       30.572597  ...     4007.323783   \n",
       "3       68.069446       12.835425       27.711023  ...     2926.483907   \n",
       "4       73.657018       34.269800       32.153225  ...     7674.475705   \n",
       "\n",
       "   SP.DYN.AMRT.FE  SP.DYN.AMRT.MA  SP.DYN.CBRT.IN  SP.DYN.CDRT.IN  \\\n",
       "0       77.039930      189.578062       10.543330       11.429917   \n",
       "1      121.928584      200.568068       17.555646        7.436407   \n",
       "2       91.717833      134.835195       14.439063        7.019396   \n",
       "3      150.595639      214.978616       22.914627        7.028941   \n",
       "4       86.702958      130.465277       13.880915        7.095146   \n",
       "\n",
       "   SP.DYN.IMRT.IN  SP.DYN.LE00.IN  SP.DYN.TFRT.IN  SP.POP.GROW  \\\n",
       "0        6.019183       75.295349        1.465325    -0.362710   \n",
       "1       18.406085       72.252392        2.151960     0.642147   \n",
       "2       19.100000       73.482345        1.843869     0.713160   \n",
       "3       40.042149       67.955732        2.763140     1.534541   \n",
       "4       18.136433       74.383915        1.797065     0.675231   \n",
       "\n",
       "   SP.URB.TOTL.IN.ZS  \n",
       "0          62.059417  \n",
       "1          42.083135  \n",
       "2          47.696831  \n",
       "3          42.113134  \n",
       "4          51.791229  \n",
       "\n",
       "[5 rows x 21 columns]"
      ]
     },
     "execution_count": 19,
     "metadata": {},
     "output_type": "execute_result"
    }
   ],
   "source": [
    "# Load countries data\n",
    "countries = pd.read_csv(\"countries.csv\")\n",
    "\n",
    "countries.head()\n"
   ]
  },
  {
   "cell_type": "code",
   "execution_count": null,
   "metadata": {
    "id": "e11a2tABS5ik",
    "outputId": "a82f1629-ce18-421c-ee95-0de50969bc16"
   },
   "outputs": [
    {
     "data": {
      "text/plain": [
       "<AxesSubplot: xlabel='IT.CEL.SETS.P2', ylabel='Count'>"
      ]
     },
     "execution_count": 166,
     "metadata": {},
     "output_type": "execute_result"
    },
    {
     "data": {
      "image/png": "[encoded data removed]",
      "text/plain": [
       "<Figure size 640x480 with 1 Axes>"
      ]
     },
     "metadata": {},
     "output_type": "display_data"
    }
   ],
   "source": [
    "# Visualise the IT.CEL.SETS.P2 feature.\n",
    "# IT.CEL.SETS.P2 is the mobile cellular subscriptions per 100 people.\n",
    "sns.histplot(countries['IT.CEL.SETS.P2'])"
   ]
  },
  {
   "cell_type": "code",
   "execution_count": null,
   "metadata": {
    "id": "4a9Aua_cS5im",
    "outputId": "e2648dfe-b864-4f84-f6f7-96270e58a55e"
   },
   "outputs": [
    {
     "name": "stderr",
     "output_type": "stream",
     "text": [
      "c:\\Users\\bianc\\AppData\\Local\\Programs\\Python\\Python310\\lib\\site-packages\\mlxtend\\preprocessing\\scaling.py:40: FutureWarning: Support for multi-dimensional indexing (e.g. `obj[:, None]`) is deprecated and will be removed in a future version.  Convert to a numpy array before indexing instead.\n",
      "  ary_new = ary_new[:, np.newaxis]\n"
     ]
    }
   ],
   "source": [
    "# Scale the data using normalisation since the data does not have a Gaussian (normal) distribution.\n",
    "scaled_data = minmax_scaling(countries['IT.CEL.SETS.P2'], columns = [0])"
   ]
  },
  {
   "cell_type": "markdown",
   "metadata": {
    "id": "7qyrngFhS5ip"
   },
   "source": [
    "## Tasks\n"
   ]
  },
  {
   "cell_type": "markdown",
   "metadata": {
    "id": "kclmdBZJ0RqR"
   },
   "source": [
    "### Task 1"
   ]
  },
  {
   "cell_type": "code",
   "execution_count": 37,
   "metadata": {
    "id": "7V2ek_duS5is"
   },
   "outputs": [
    {
     "data": {
      "text/html": [
       "<div>\n",
       "<style scoped>\n",
       "    .dataframe tbody tr th:only-of-type {\n",
       "        vertical-align: middle;\n",
       "    }\n",
       "\n",
       "    .dataframe tbody tr th {\n",
       "        vertical-align: top;\n",
       "    }\n",
       "\n",
       "    .dataframe thead th {\n",
       "        text-align: right;\n",
       "    }\n",
       "</style>\n",
       "<table border=\"1\" class=\"dataframe\">\n",
       "  <thead>\n",
       "    <tr style=\"text-align: right;\">\n",
       "      <th></th>\n",
       "      <th>id</th>\n",
       "      <th>store_name</th>\n",
       "      <th>store_email</th>\n",
       "      <th>department</th>\n",
       "      <th>income</th>\n",
       "      <th>date_measured</th>\n",
       "      <th>country</th>\n",
       "    </tr>\n",
       "  </thead>\n",
       "  <tbody>\n",
       "    <tr>\n",
       "      <th>0</th>\n",
       "      <td>1</td>\n",
       "      <td>Cullen/Frost Bankers, Inc.</td>\n",
       "      <td>NaN</td>\n",
       "      <td>Clothing</td>\n",
       "      <td>$54438554.24</td>\n",
       "      <td>4-2-2006</td>\n",
       "      <td>United States/</td>\n",
       "    </tr>\n",
       "    <tr>\n",
       "      <th>1</th>\n",
       "      <td>2</td>\n",
       "      <td>Nordson Corporation</td>\n",
       "      <td>NaN</td>\n",
       "      <td>Tools</td>\n",
       "      <td>$41744177.01</td>\n",
       "      <td>4-1-2006</td>\n",
       "      <td>Britain</td>\n",
       "    </tr>\n",
       "    <tr>\n",
       "      <th>2</th>\n",
       "      <td>3</td>\n",
       "      <td>Stag Industrial, Inc.</td>\n",
       "      <td>NaN</td>\n",
       "      <td>Beauty</td>\n",
       "      <td>$36152340.34</td>\n",
       "      <td>12-9-2003</td>\n",
       "      <td>United States</td>\n",
       "    </tr>\n",
       "    <tr>\n",
       "      <th>3</th>\n",
       "      <td>4</td>\n",
       "      <td>FIRST REPUBLIC BANK</td>\n",
       "      <td>ecanadine3@fc2.com</td>\n",
       "      <td>Automotive</td>\n",
       "      <td>$8928350.04</td>\n",
       "      <td>8-5-2006</td>\n",
       "      <td>Britain/</td>\n",
       "    </tr>\n",
       "    <tr>\n",
       "      <th>4</th>\n",
       "      <td>5</td>\n",
       "      <td>Mercantile Bank Corporation</td>\n",
       "      <td>NaN</td>\n",
       "      <td>Baby</td>\n",
       "      <td>$33552742.32</td>\n",
       "      <td>21-1-1973</td>\n",
       "      <td>United Kingdom</td>\n",
       "    </tr>\n",
       "  </tbody>\n",
       "</table>\n",
       "</div>"
      ],
      "text/plain": [
       "   id                   store_name         store_email  department  \\\n",
       "0   1   Cullen/Frost Bankers, Inc.                 NaN    Clothing   \n",
       "1   2          Nordson Corporation                 NaN       Tools   \n",
       "2   3        Stag Industrial, Inc.                 NaN      Beauty   \n",
       "3   4          FIRST REPUBLIC BANK  ecanadine3@fc2.com  Automotive   \n",
       "4   5  Mercantile Bank Corporation                 NaN        Baby   \n",
       "\n",
       "         income date_measured          country  \n",
       "0  $54438554.24      4-2-2006   United States/  \n",
       "1  $41744177.01      4-1-2006          Britain  \n",
       "2  $36152340.34     12-9-2003    United States  \n",
       "3   $8928350.04      8-5-2006         Britain/  \n",
       "4  $33552742.32     21-1-1973   United Kingdom  "
      ]
     },
     "execution_count": 37,
     "metadata": {},
     "output_type": "execute_result"
    }
   ],
   "source": [
    "# 1. Read in store_income_task.csv\n",
    "df = pd.read_csv('store_income_data_task.csv')\n",
    "# 2. Display the first 5 observations\n",
    "df.head(5)\n"
   ]
  },
  {
   "cell_type": "code",
   "execution_count": 38,
   "metadata": {
    "id": "J7J-wgYWS5iu"
   },
   "outputs": [
    {
     "data": {
      "text/plain": [
       "id                 0\n",
       "store_name         0\n",
       "store_email      587\n",
       "department        27\n",
       "income             0\n",
       "date_measured      0\n",
       "country           35\n",
       "dtype: int64"
      ]
     },
     "execution_count": 38,
     "metadata": {},
     "output_type": "execute_result"
    }
   ],
   "source": [
    "# 3. Get the number of missing data values per column and print the results\n",
    "\n",
    "# Get the number of missing data values per column\n",
    "missing_values_count = df.isnull().sum()\n",
    "\n",
    "# Look at the number of missing values in the first ten columns\n",
    "missing_values_count[0:7]\n",
    "\n",
    "# 1. store_email: I think the missing data is missing becaise they might have forgotten to put it in or did not have the information. \n",
    "#    You could get the data by looking up every company but that would be counterproductive.\n",
    "#    I lable store_email as MCAR because it is not related in any way to any of the other data.\n",
    "\n",
    "# 2. department: I think this data is missing because they might make forgot to put the data or just did not have it.\n",
    "#    I lable department as MNAR because factors of the data is not measured in the data set.\n",
    "\n",
    "# 3. country: I think the data is missing because they did not know what to put but it is relaed to the other data.\n",
    "#    I lable country as MAR becuase the data can be measured by other data in the data set.  "
   ]
  },
  {
   "cell_type": "markdown",
   "metadata": {
    "id": "wIPXtprGS5iu"
   },
   "source": [
    "4. Write a note on why you think we have missing data for the following three columns: store_email,  department, and country. Remember to classify them according to the three categories(types of missingness) we analysed in the task."
   ]
  },
  {
   "cell_type": "markdown",
   "metadata": {
    "id": "InSxfUf40RqS"
   },
   "source": [
    "**Answer here:**"
   ]
  },
  {
   "cell_type": "markdown",
   "metadata": {
    "id": "g_kt5gDg0RqS"
   },
   "source": [
    "### Task 2"
   ]
  },
  {
   "cell_type": "markdown",
   "metadata": {
    "id": "MiEvBzB8S5iv"
   },
   "source": [
    "1. For the following example, decide whether standardisation or normalisation makes more sense.\n",
    "\n",
    "  a. You want to build a linear regression model to predict someone's grades, given how much time they spend on various activities during a typical school week.  You notice that your measurements for how much time students spend studying aren't normally distributed: some students spend almost no time studying, while others study for four or more hours daily. Should you standardise or normalise this variable?  \n",
    "\n",
    "  b. You're still working with your student's grades, but you want to include information on how students perform on several fitness tests as well. You have information on how many jumping jacks and push-ups each student can complete in a minute. However, you notice that students perform far more jumping jacks than push-ups: the average for the former is 40, and for the latter only 10. Should you standardise or normalise these variables?"
   ]
  },
  {
   "cell_type": "code",
   "execution_count": 28,
   "metadata": {},
   "outputs": [
    {
     "data": {
      "text/plain": [
       "<Axes: xlabel='EG.ELC.ACCS.ZS', ylabel='Count'>"
      ]
     },
     "execution_count": 28,
     "metadata": {},
     "output_type": "execute_result"
    },
    {
     "data": {
      "image/png": "[encoded data removed]",
      "text/plain": [
       "<Figure size 640x480 with 1 Axes>"
      ]
     },
     "metadata": {},
     "output_type": "display_data"
    }
   ],
   "source": [
    "# Reading in countries data\n",
    "countries = pd.read_csv(\"countries.csv\")\n",
    "# \n",
    "countries.head()\n",
    "countries = countries[countries['EG.ELC.ACCS.ZS'] != 'CEB']\n",
    "\n",
    "\n",
    "sns.histplot(data=countries['EG.ELC.ACCS.ZS'], kde=True)"
   ]
  },
  {
   "cell_type": "code",
   "execution_count": 29,
   "metadata": {},
   "outputs": [
    {
     "ename": "ValueError",
     "evalue": "could not convert string to float: 'CEB'",
     "output_type": "error",
     "traceback": [
      "\u001b[1;31m---------------------------------------------------------------------------\u001b[0m",
      "\u001b[1;31mValueError\u001b[0m                                Traceback (most recent call last)",
      "Cell \u001b[1;32mIn[29], line 1\u001b[0m\n\u001b[1;32m----> 1\u001b[0m scaled_data \u001b[38;5;241m=\u001b[39m \u001b[43mstandardize\u001b[49m\u001b[43m(\u001b[49m\u001b[43mcountries\u001b[49m\u001b[43m,\u001b[49m\u001b[43m \u001b[49m\u001b[43mcolumns\u001b[49m\u001b[43m \u001b[49m\u001b[38;5;241;43m=\u001b[39;49m\u001b[43m \u001b[49m\u001b[43m[\u001b[49m\u001b[38;5;241;43m5\u001b[39;49m\u001b[43m]\u001b[49m\u001b[43m)\u001b[49m\n\u001b[0;32m      2\u001b[0m sns\u001b[38;5;241m.\u001b[39mhistplot(data\u001b[38;5;241m=\u001b[39mcountries[\u001b[38;5;124m'\u001b[39m\u001b[38;5;124mEG.ELC.ACCS.ZS\u001b[39m\u001b[38;5;124m'\u001b[39m], kde\u001b[38;5;241m=\u001b[39m\u001b[38;5;28;01mTrue\u001b[39;00m)\n",
      "File \u001b[1;32m~\\AppData\\Local\\Programs\\Python\\Python312\\Lib\\site-packages\\mlxtend\\preprocessing\\scaling.py:101\u001b[0m, in \u001b[0;36mstandardize\u001b[1;34m(array, columns, ddof, return_params, params)\u001b[0m\n\u001b[0;32m     59\u001b[0m \u001b[38;5;28;01mdef\u001b[39;00m \u001b[38;5;21mstandardize\u001b[39m(array, columns\u001b[38;5;241m=\u001b[39m\u001b[38;5;28;01mNone\u001b[39;00m, ddof\u001b[38;5;241m=\u001b[39m\u001b[38;5;241m0\u001b[39m, return_params\u001b[38;5;241m=\u001b[39m\u001b[38;5;28;01mFalse\u001b[39;00m, params\u001b[38;5;241m=\u001b[39m\u001b[38;5;28;01mNone\u001b[39;00m):\n\u001b[0;32m     60\u001b[0m \u001b[38;5;250m    \u001b[39m\u001b[38;5;124;03m\"\"\"Standardize columns in pandas DataFrames.\u001b[39;00m\n\u001b[0;32m     61\u001b[0m \n\u001b[0;32m     62\u001b[0m \u001b[38;5;124;03m    Parameters\u001b[39;00m\n\u001b[1;32m   (...)\u001b[0m\n\u001b[0;32m     99\u001b[0m \n\u001b[0;32m    100\u001b[0m \u001b[38;5;124;03m    \"\"\"\u001b[39;00m\n\u001b[1;32m--> 101\u001b[0m     ary_new \u001b[38;5;241m=\u001b[39m \u001b[43marray\u001b[49m\u001b[38;5;241;43m.\u001b[39;49m\u001b[43mastype\u001b[49m\u001b[43m(\u001b[49m\u001b[38;5;28;43mfloat\u001b[39;49m\u001b[43m)\u001b[49m\n\u001b[0;32m    102\u001b[0m     dim \u001b[38;5;241m=\u001b[39m ary_new\u001b[38;5;241m.\u001b[39mshape\n\u001b[0;32m    103\u001b[0m     \u001b[38;5;28;01mif\u001b[39;00m \u001b[38;5;28mlen\u001b[39m(dim) \u001b[38;5;241m==\u001b[39m \u001b[38;5;241m1\u001b[39m:\n",
      "File \u001b[1;32m~\\AppData\\Local\\Programs\\Python\\Python312\\Lib\\site-packages\\pandas\\core\\generic.py:6640\u001b[0m, in \u001b[0;36mNDFrame.astype\u001b[1;34m(self, dtype, copy, errors)\u001b[0m\n\u001b[0;32m   6634\u001b[0m     results \u001b[38;5;241m=\u001b[39m [\n\u001b[0;32m   6635\u001b[0m         ser\u001b[38;5;241m.\u001b[39mastype(dtype, copy\u001b[38;5;241m=\u001b[39mcopy, errors\u001b[38;5;241m=\u001b[39merrors) \u001b[38;5;28;01mfor\u001b[39;00m _, ser \u001b[38;5;129;01min\u001b[39;00m \u001b[38;5;28mself\u001b[39m\u001b[38;5;241m.\u001b[39mitems()\n\u001b[0;32m   6636\u001b[0m     ]\n\u001b[0;32m   6638\u001b[0m \u001b[38;5;28;01melse\u001b[39;00m:\n\u001b[0;32m   6639\u001b[0m     \u001b[38;5;66;03m# else, only a single dtype is given\u001b[39;00m\n\u001b[1;32m-> 6640\u001b[0m     new_data \u001b[38;5;241m=\u001b[39m \u001b[38;5;28;43mself\u001b[39;49m\u001b[38;5;241;43m.\u001b[39;49m\u001b[43m_mgr\u001b[49m\u001b[38;5;241;43m.\u001b[39;49m\u001b[43mastype\u001b[49m\u001b[43m(\u001b[49m\u001b[43mdtype\u001b[49m\u001b[38;5;241;43m=\u001b[39;49m\u001b[43mdtype\u001b[49m\u001b[43m,\u001b[49m\u001b[43m \u001b[49m\u001b[43mcopy\u001b[49m\u001b[38;5;241;43m=\u001b[39;49m\u001b[43mcopy\u001b[49m\u001b[43m,\u001b[49m\u001b[43m \u001b[49m\u001b[43merrors\u001b[49m\u001b[38;5;241;43m=\u001b[39;49m\u001b[43merrors\u001b[49m\u001b[43m)\u001b[49m\n\u001b[0;32m   6641\u001b[0m     res \u001b[38;5;241m=\u001b[39m \u001b[38;5;28mself\u001b[39m\u001b[38;5;241m.\u001b[39m_constructor_from_mgr(new_data, axes\u001b[38;5;241m=\u001b[39mnew_data\u001b[38;5;241m.\u001b[39maxes)\n\u001b[0;32m   6642\u001b[0m     \u001b[38;5;28;01mreturn\u001b[39;00m res\u001b[38;5;241m.\u001b[39m__finalize__(\u001b[38;5;28mself\u001b[39m, method\u001b[38;5;241m=\u001b[39m\u001b[38;5;124m\"\u001b[39m\u001b[38;5;124mastype\u001b[39m\u001b[38;5;124m\"\u001b[39m)\n",
      "File \u001b[1;32m~\\AppData\\Local\\Programs\\Python\\Python312\\Lib\\site-packages\\pandas\\core\\internals\\managers.py:430\u001b[0m, in \u001b[0;36mBaseBlockManager.astype\u001b[1;34m(self, dtype, copy, errors)\u001b[0m\n\u001b[0;32m    427\u001b[0m \u001b[38;5;28;01melif\u001b[39;00m using_copy_on_write():\n\u001b[0;32m    428\u001b[0m     copy \u001b[38;5;241m=\u001b[39m \u001b[38;5;28;01mFalse\u001b[39;00m\n\u001b[1;32m--> 430\u001b[0m \u001b[38;5;28;01mreturn\u001b[39;00m \u001b[38;5;28;43mself\u001b[39;49m\u001b[38;5;241;43m.\u001b[39;49m\u001b[43mapply\u001b[49m\u001b[43m(\u001b[49m\n\u001b[0;32m    431\u001b[0m \u001b[43m    \u001b[49m\u001b[38;5;124;43m\"\u001b[39;49m\u001b[38;5;124;43mastype\u001b[39;49m\u001b[38;5;124;43m\"\u001b[39;49m\u001b[43m,\u001b[49m\n\u001b[0;32m    432\u001b[0m \u001b[43m    \u001b[49m\u001b[43mdtype\u001b[49m\u001b[38;5;241;43m=\u001b[39;49m\u001b[43mdtype\u001b[49m\u001b[43m,\u001b[49m\n\u001b[0;32m    433\u001b[0m \u001b[43m    \u001b[49m\u001b[43mcopy\u001b[49m\u001b[38;5;241;43m=\u001b[39;49m\u001b[43mcopy\u001b[49m\u001b[43m,\u001b[49m\n\u001b[0;32m    434\u001b[0m \u001b[43m    \u001b[49m\u001b[43merrors\u001b[49m\u001b[38;5;241;43m=\u001b[39;49m\u001b[43merrors\u001b[49m\u001b[43m,\u001b[49m\n\u001b[0;32m    435\u001b[0m \u001b[43m    \u001b[49m\u001b[43musing_cow\u001b[49m\u001b[38;5;241;43m=\u001b[39;49m\u001b[43musing_copy_on_write\u001b[49m\u001b[43m(\u001b[49m\u001b[43m)\u001b[49m\u001b[43m,\u001b[49m\n\u001b[0;32m    436\u001b[0m \u001b[43m\u001b[49m\u001b[43m)\u001b[49m\n",
      "File \u001b[1;32m~\\AppData\\Local\\Programs\\Python\\Python312\\Lib\\site-packages\\pandas\\core\\internals\\managers.py:363\u001b[0m, in \u001b[0;36mBaseBlockManager.apply\u001b[1;34m(self, f, align_keys, **kwargs)\u001b[0m\n\u001b[0;32m    361\u001b[0m         applied \u001b[38;5;241m=\u001b[39m b\u001b[38;5;241m.\u001b[39mapply(f, \u001b[38;5;241m*\u001b[39m\u001b[38;5;241m*\u001b[39mkwargs)\n\u001b[0;32m    362\u001b[0m     \u001b[38;5;28;01melse\u001b[39;00m:\n\u001b[1;32m--> 363\u001b[0m         applied \u001b[38;5;241m=\u001b[39m \u001b[38;5;28;43mgetattr\u001b[39;49m\u001b[43m(\u001b[49m\u001b[43mb\u001b[49m\u001b[43m,\u001b[49m\u001b[43m \u001b[49m\u001b[43mf\u001b[49m\u001b[43m)\u001b[49m\u001b[43m(\u001b[49m\u001b[38;5;241;43m*\u001b[39;49m\u001b[38;5;241;43m*\u001b[39;49m\u001b[43mkwargs\u001b[49m\u001b[43m)\u001b[49m\n\u001b[0;32m    364\u001b[0m     result_blocks \u001b[38;5;241m=\u001b[39m extend_blocks(applied, result_blocks)\n\u001b[0;32m    366\u001b[0m out \u001b[38;5;241m=\u001b[39m \u001b[38;5;28mtype\u001b[39m(\u001b[38;5;28mself\u001b[39m)\u001b[38;5;241m.\u001b[39mfrom_blocks(result_blocks, \u001b[38;5;28mself\u001b[39m\u001b[38;5;241m.\u001b[39maxes)\n",
      "File \u001b[1;32m~\\AppData\\Local\\Programs\\Python\\Python312\\Lib\\site-packages\\pandas\\core\\internals\\blocks.py:758\u001b[0m, in \u001b[0;36mBlock.astype\u001b[1;34m(self, dtype, copy, errors, using_cow, squeeze)\u001b[0m\n\u001b[0;32m    755\u001b[0m         \u001b[38;5;28;01mraise\u001b[39;00m \u001b[38;5;167;01mValueError\u001b[39;00m(\u001b[38;5;124m\"\u001b[39m\u001b[38;5;124mCan not squeeze with more than one column.\u001b[39m\u001b[38;5;124m\"\u001b[39m)\n\u001b[0;32m    756\u001b[0m     values \u001b[38;5;241m=\u001b[39m values[\u001b[38;5;241m0\u001b[39m, :]  \u001b[38;5;66;03m# type: ignore[call-overload]\u001b[39;00m\n\u001b[1;32m--> 758\u001b[0m new_values \u001b[38;5;241m=\u001b[39m \u001b[43mastype_array_safe\u001b[49m\u001b[43m(\u001b[49m\u001b[43mvalues\u001b[49m\u001b[43m,\u001b[49m\u001b[43m \u001b[49m\u001b[43mdtype\u001b[49m\u001b[43m,\u001b[49m\u001b[43m \u001b[49m\u001b[43mcopy\u001b[49m\u001b[38;5;241;43m=\u001b[39;49m\u001b[43mcopy\u001b[49m\u001b[43m,\u001b[49m\u001b[43m \u001b[49m\u001b[43merrors\u001b[49m\u001b[38;5;241;43m=\u001b[39;49m\u001b[43merrors\u001b[49m\u001b[43m)\u001b[49m\n\u001b[0;32m    760\u001b[0m new_values \u001b[38;5;241m=\u001b[39m maybe_coerce_values(new_values)\n\u001b[0;32m    762\u001b[0m refs \u001b[38;5;241m=\u001b[39m \u001b[38;5;28;01mNone\u001b[39;00m\n",
      "File \u001b[1;32m~\\AppData\\Local\\Programs\\Python\\Python312\\Lib\\site-packages\\pandas\\core\\dtypes\\astype.py:237\u001b[0m, in \u001b[0;36mastype_array_safe\u001b[1;34m(values, dtype, copy, errors)\u001b[0m\n\u001b[0;32m    234\u001b[0m     dtype \u001b[38;5;241m=\u001b[39m dtype\u001b[38;5;241m.\u001b[39mnumpy_dtype\n\u001b[0;32m    236\u001b[0m \u001b[38;5;28;01mtry\u001b[39;00m:\n\u001b[1;32m--> 237\u001b[0m     new_values \u001b[38;5;241m=\u001b[39m \u001b[43mastype_array\u001b[49m\u001b[43m(\u001b[49m\u001b[43mvalues\u001b[49m\u001b[43m,\u001b[49m\u001b[43m \u001b[49m\u001b[43mdtype\u001b[49m\u001b[43m,\u001b[49m\u001b[43m \u001b[49m\u001b[43mcopy\u001b[49m\u001b[38;5;241;43m=\u001b[39;49m\u001b[43mcopy\u001b[49m\u001b[43m)\u001b[49m\n\u001b[0;32m    238\u001b[0m \u001b[38;5;28;01mexcept\u001b[39;00m (\u001b[38;5;167;01mValueError\u001b[39;00m, \u001b[38;5;167;01mTypeError\u001b[39;00m):\n\u001b[0;32m    239\u001b[0m     \u001b[38;5;66;03m# e.g. _astype_nansafe can fail on object-dtype of strings\u001b[39;00m\n\u001b[0;32m    240\u001b[0m     \u001b[38;5;66;03m#  trying to convert to float\u001b[39;00m\n\u001b[0;32m    241\u001b[0m     \u001b[38;5;28;01mif\u001b[39;00m errors \u001b[38;5;241m==\u001b[39m \u001b[38;5;124m\"\u001b[39m\u001b[38;5;124mignore\u001b[39m\u001b[38;5;124m\"\u001b[39m:\n",
      "File \u001b[1;32m~\\AppData\\Local\\Programs\\Python\\Python312\\Lib\\site-packages\\pandas\\core\\dtypes\\astype.py:182\u001b[0m, in \u001b[0;36mastype_array\u001b[1;34m(values, dtype, copy)\u001b[0m\n\u001b[0;32m    179\u001b[0m     values \u001b[38;5;241m=\u001b[39m values\u001b[38;5;241m.\u001b[39mastype(dtype, copy\u001b[38;5;241m=\u001b[39mcopy)\n\u001b[0;32m    181\u001b[0m \u001b[38;5;28;01melse\u001b[39;00m:\n\u001b[1;32m--> 182\u001b[0m     values \u001b[38;5;241m=\u001b[39m \u001b[43m_astype_nansafe\u001b[49m\u001b[43m(\u001b[49m\u001b[43mvalues\u001b[49m\u001b[43m,\u001b[49m\u001b[43m \u001b[49m\u001b[43mdtype\u001b[49m\u001b[43m,\u001b[49m\u001b[43m \u001b[49m\u001b[43mcopy\u001b[49m\u001b[38;5;241;43m=\u001b[39;49m\u001b[43mcopy\u001b[49m\u001b[43m)\u001b[49m\n\u001b[0;32m    184\u001b[0m \u001b[38;5;66;03m# in pandas we don't store numpy str dtypes, so convert to object\u001b[39;00m\n\u001b[0;32m    185\u001b[0m \u001b[38;5;28;01mif\u001b[39;00m \u001b[38;5;28misinstance\u001b[39m(dtype, np\u001b[38;5;241m.\u001b[39mdtype) \u001b[38;5;129;01mand\u001b[39;00m \u001b[38;5;28missubclass\u001b[39m(values\u001b[38;5;241m.\u001b[39mdtype\u001b[38;5;241m.\u001b[39mtype, \u001b[38;5;28mstr\u001b[39m):\n",
      "File \u001b[1;32m~\\AppData\\Local\\Programs\\Python\\Python312\\Lib\\site-packages\\pandas\\core\\dtypes\\astype.py:133\u001b[0m, in \u001b[0;36m_astype_nansafe\u001b[1;34m(arr, dtype, copy, skipna)\u001b[0m\n\u001b[0;32m    129\u001b[0m     \u001b[38;5;28;01mraise\u001b[39;00m \u001b[38;5;167;01mValueError\u001b[39;00m(msg)\n\u001b[0;32m    131\u001b[0m \u001b[38;5;28;01mif\u001b[39;00m copy \u001b[38;5;129;01mor\u001b[39;00m arr\u001b[38;5;241m.\u001b[39mdtype \u001b[38;5;241m==\u001b[39m \u001b[38;5;28mobject\u001b[39m \u001b[38;5;129;01mor\u001b[39;00m dtype \u001b[38;5;241m==\u001b[39m \u001b[38;5;28mobject\u001b[39m:\n\u001b[0;32m    132\u001b[0m     \u001b[38;5;66;03m# Explicit copy, or required since NumPy can't view from / to object.\u001b[39;00m\n\u001b[1;32m--> 133\u001b[0m     \u001b[38;5;28;01mreturn\u001b[39;00m \u001b[43marr\u001b[49m\u001b[38;5;241;43m.\u001b[39;49m\u001b[43mastype\u001b[49m\u001b[43m(\u001b[49m\u001b[43mdtype\u001b[49m\u001b[43m,\u001b[49m\u001b[43m \u001b[49m\u001b[43mcopy\u001b[49m\u001b[38;5;241;43m=\u001b[39;49m\u001b[38;5;28;43;01mTrue\u001b[39;49;00m\u001b[43m)\u001b[49m\n\u001b[0;32m    135\u001b[0m \u001b[38;5;28;01mreturn\u001b[39;00m arr\u001b[38;5;241m.\u001b[39mastype(dtype, copy\u001b[38;5;241m=\u001b[39mcopy)\n",
      "\u001b[1;31mValueError\u001b[0m: could not convert string to float: 'CEB'"
     ]
    }
   ],
   "source": [
    "scaled_data = standardize(countries, columns = [5])\n",
    "sns.histplot(data=countries['EG.ELC.ACCS.ZS'], kde=True)\n"
   ]
  },
  {
   "cell_type": "markdown",
   "metadata": {
    "id": "070Knn7V0Rqd"
   },
   "source": [
    "**Answer here:**  \n",
    "\n",
    "a.\n",
    "\n",
    "b."
   ]
  },
  {
   "cell_type": "code",
   "execution_count": null,
   "metadata": {
    "id": "OhY3QV5rS5iw"
   },
   "outputs": [],
   "source": [
    "# 2. From the countries dataset, visualise the \"EG.ELC.ACCS.ZS\" column using a histogram.\n",
    "# Then, scale the column using the appropriate scaling method (normalisation or standardisaton).\n",
    "# Finally, visualise the original and scaled data alongside each other.\n",
    "# Note EG.ELC.ACCS.ZS is the percentage of the population with access to electricity.\n",
    "\n",
    "\n"
   ]
  }
 ],
 "metadata": {
  "colab": {
   "provenance": []
  },
  "kernelspec": {
   "display_name": "Python 3 (ipykernel)",
   "language": "python",
   "name": "python3"
  },
  "language_info": {
   "codemirror_mode": {
    "name": "ipython",
    "version": 3
   },
   "file_extension": ".py",
   "mimetype": "text/x-python",
   "name": "python",
   "nbconvert_exporter": "python",
   "pygments_lexer": "ipython3",
   "version": "3.12.2"
  },
  "vscode": {
   "interpreter": {
    "hash": "1904059d3876957b542b45423f2a26c6c4608f5e11cc75420e543fa77f94b066"
   }
  }
 },
 "nbformat": 4,
 "nbformat_minor": 4
}
